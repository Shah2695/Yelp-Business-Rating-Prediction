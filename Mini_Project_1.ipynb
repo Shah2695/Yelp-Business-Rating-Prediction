{
 "cells": [
  {
   "cell_type": "code",
   "execution_count": 1,
   "metadata": {
    "collapsed": true
   },
   "outputs": [],
   "source": [
    "import json\n",
    "import csv\n",
    "import numpy as np\n",
    "import pandas as pd\n"
   ]
  },
  {
   "cell_type": "code",
   "execution_count": 2,
   "metadata": {
    "collapsed": true
   },
   "outputs": [],
   "source": [
    "import string"
   ]
  },
  {
   "cell_type": "code",
   "execution_count": 3,
   "metadata": {
    "collapsed": true
   },
   "outputs": [],
   "source": [
    "import re"
   ]
  },
  {
   "cell_type": "markdown",
   "metadata": {},
   "source": [
    "# Converting review Json to pandas dataframe"
   ]
  },
  {
   "cell_type": "code",
   "execution_count": 4,
   "metadata": {
    "collapsed": true
   },
   "outputs": [],
   "source": [
    "outfile = open(\"review_stars.tsv\",\"w\")\n",
    "sfile = csv.writer(outfile,delimiter=\"\\t\",quoting=csv.QUOTE_MINIMAL)\n",
    "sfile.writerow(['business_id','stars','text'])\n",
    "\n",
    "with open('yelp_academic_dataset_review.json',encoding=\"utf-8\") as f:\n",
    "    for line in f:\n",
    "        row=json.loads(line)\n",
    "        sfile.writerow([row['business_id'],row['stars'],(row['text']).encode('utf-8')])\n",
    "\n",
    "outfile.close()\n",
    "\n",
    "df = pd.read_csv('review_stars.tsv',delimiter=\"\\t\",encoding=\"utf-8\")"
   ]
  },
  {
   "cell_type": "code",
   "execution_count": 5,
   "metadata": {},
   "outputs": [
    {
     "data": {
      "text/html": [
       "<div>\n",
       "<style>\n",
       "    .dataframe thead tr:only-child th {\n",
       "        text-align: right;\n",
       "    }\n",
       "\n",
       "    .dataframe thead th {\n",
       "        text-align: left;\n",
       "    }\n",
       "\n",
       "    .dataframe tbody tr th {\n",
       "        vertical-align: top;\n",
       "    }\n",
       "</style>\n",
       "<table border=\"1\" class=\"dataframe\">\n",
       "  <thead>\n",
       "    <tr style=\"text-align: right;\">\n",
       "      <th></th>\n",
       "      <th>business_id</th>\n",
       "      <th>stars</th>\n",
       "      <th>text</th>\n",
       "    </tr>\n",
       "  </thead>\n",
       "  <tbody>\n",
       "    <tr>\n",
       "      <th>0</th>\n",
       "      <td>iCQpiavjjPzJ5_3gPD5Ebg</td>\n",
       "      <td>2</td>\n",
       "      <td>b\"The pizza was okay. Not the best I've had. I...</td>\n",
       "    </tr>\n",
       "    <tr>\n",
       "      <th>1</th>\n",
       "      <td>pomGBqfbxcqPv14c3XH-ZQ</td>\n",
       "      <td>5</td>\n",
       "      <td>b'I love this place! My fiance And I go here a...</td>\n",
       "    </tr>\n",
       "    <tr>\n",
       "      <th>2</th>\n",
       "      <td>jtQARsP6P-LbkyjbO1qNGg</td>\n",
       "      <td>1</td>\n",
       "      <td>b'Terrible. Dry corn bread. Rib tips were all ...</td>\n",
       "    </tr>\n",
       "    <tr>\n",
       "      <th>3</th>\n",
       "      <td>elqbBhBfElMNSrjFqW3now</td>\n",
       "      <td>2</td>\n",
       "      <td>b'Back in 2005-2007 this place was my FAVORITE...</td>\n",
       "    </tr>\n",
       "    <tr>\n",
       "      <th>4</th>\n",
       "      <td>Ums3gaP2qM3W1XcA5r6SsQ</td>\n",
       "      <td>5</td>\n",
       "      <td>b'Delicious healthy food. The steak is amazing...</td>\n",
       "    </tr>\n",
       "    <tr>\n",
       "      <th>5</th>\n",
       "      <td>vgfcTvK81oD4r50NMjU2Ag</td>\n",
       "      <td>1</td>\n",
       "      <td>b'This place sucks. The customer service is ho...</td>\n",
       "    </tr>\n",
       "    <tr>\n",
       "      <th>6</th>\n",
       "      <td>AxeQEz3-s9_1TyIo-G7UQw</td>\n",
       "      <td>5</td>\n",
       "      <td>b\"If you like Thai food, you have to try the o...</td>\n",
       "    </tr>\n",
       "    <tr>\n",
       "      <th>7</th>\n",
       "      <td>zdE82PiD6wquvjYLyhOJNA</td>\n",
       "      <td>5</td>\n",
       "      <td>b'AMAZING!!!\\n\\n I was referred here by a frie...</td>\n",
       "    </tr>\n",
       "    <tr>\n",
       "      <th>8</th>\n",
       "      <td>EAwh1OmG6t6p3nRaZOW_AA</td>\n",
       "      <td>4</td>\n",
       "      <td>b'Ribs = amazing\\n2 hour wait time= not so ama...</td>\n",
       "    </tr>\n",
       "    <tr>\n",
       "      <th>9</th>\n",
       "      <td>atVh8viqTj-sqDJ35tAYVg</td>\n",
       "      <td>2</td>\n",
       "      <td>b\"Food is pretty good, not gonna lie. BUT you ...</td>\n",
       "    </tr>\n",
       "  </tbody>\n",
       "</table>\n",
       "</div>"
      ],
      "text/plain": [
       "              business_id  stars  \\\n",
       "0  iCQpiavjjPzJ5_3gPD5Ebg      2   \n",
       "1  pomGBqfbxcqPv14c3XH-ZQ      5   \n",
       "2  jtQARsP6P-LbkyjbO1qNGg      1   \n",
       "3  elqbBhBfElMNSrjFqW3now      2   \n",
       "4  Ums3gaP2qM3W1XcA5r6SsQ      5   \n",
       "5  vgfcTvK81oD4r50NMjU2Ag      1   \n",
       "6  AxeQEz3-s9_1TyIo-G7UQw      5   \n",
       "7  zdE82PiD6wquvjYLyhOJNA      5   \n",
       "8  EAwh1OmG6t6p3nRaZOW_AA      4   \n",
       "9  atVh8viqTj-sqDJ35tAYVg      2   \n",
       "\n",
       "                                                text  \n",
       "0  b\"The pizza was okay. Not the best I've had. I...  \n",
       "1  b'I love this place! My fiance And I go here a...  \n",
       "2  b'Terrible. Dry corn bread. Rib tips were all ...  \n",
       "3  b'Back in 2005-2007 this place was my FAVORITE...  \n",
       "4  b'Delicious healthy food. The steak is amazing...  \n",
       "5  b'This place sucks. The customer service is ho...  \n",
       "6  b\"If you like Thai food, you have to try the o...  \n",
       "7  b'AMAZING!!!\\n\\n I was referred here by a frie...  \n",
       "8  b'Ribs = amazing\\n2 hour wait time= not so ama...  \n",
       "9  b\"Food is pretty good, not gonna lie. BUT you ...  "
      ]
     },
     "execution_count": 5,
     "metadata": {},
     "output_type": "execute_result"
    }
   ],
   "source": [
    "df[:10]"
   ]
  },
  {
   "cell_type": "code",
   "execution_count": 6,
   "metadata": {
    "collapsed": true
   },
   "outputs": [],
   "source": [
    "df.text = df.text.apply(lambda x: x.lower()) #convert text to lower case"
   ]
  },
  {
   "cell_type": "code",
   "execution_count": 7,
   "metadata": {
    "collapsed": true
   },
   "outputs": [],
   "source": [
    "df.text = df.text.replace(r'\\\\n','', regex=True) #removing \\n "
   ]
  },
  {
   "cell_type": "code",
   "execution_count": 8,
   "metadata": {},
   "outputs": [
    {
     "data": {
      "text/html": [
       "<div>\n",
       "<style>\n",
       "    .dataframe thead tr:only-child th {\n",
       "        text-align: right;\n",
       "    }\n",
       "\n",
       "    .dataframe thead th {\n",
       "        text-align: left;\n",
       "    }\n",
       "\n",
       "    .dataframe tbody tr th {\n",
       "        vertical-align: top;\n",
       "    }\n",
       "</style>\n",
       "<table border=\"1\" class=\"dataframe\">\n",
       "  <thead>\n",
       "    <tr style=\"text-align: right;\">\n",
       "      <th></th>\n",
       "      <th>business_id</th>\n",
       "      <th>stars</th>\n",
       "      <th>text</th>\n",
       "    </tr>\n",
       "  </thead>\n",
       "  <tbody>\n",
       "    <tr>\n",
       "      <th>0</th>\n",
       "      <td>iCQpiavjjPzJ5_3gPD5Ebg</td>\n",
       "      <td>2</td>\n",
       "      <td>b\"the pizza was okay. not the best i've had. i...</td>\n",
       "    </tr>\n",
       "    <tr>\n",
       "      <th>1</th>\n",
       "      <td>pomGBqfbxcqPv14c3XH-ZQ</td>\n",
       "      <td>5</td>\n",
       "      <td>b'i love this place! my fiance and i go here a...</td>\n",
       "    </tr>\n",
       "    <tr>\n",
       "      <th>2</th>\n",
       "      <td>jtQARsP6P-LbkyjbO1qNGg</td>\n",
       "      <td>1</td>\n",
       "      <td>b'terrible. dry corn bread. rib tips were all ...</td>\n",
       "    </tr>\n",
       "    <tr>\n",
       "      <th>3</th>\n",
       "      <td>elqbBhBfElMNSrjFqW3now</td>\n",
       "      <td>2</td>\n",
       "      <td>b'back in 2005-2007 this place was my favorite...</td>\n",
       "    </tr>\n",
       "    <tr>\n",
       "      <th>4</th>\n",
       "      <td>Ums3gaP2qM3W1XcA5r6SsQ</td>\n",
       "      <td>5</td>\n",
       "      <td>b'delicious healthy food. the steak is amazing...</td>\n",
       "    </tr>\n",
       "    <tr>\n",
       "      <th>5</th>\n",
       "      <td>vgfcTvK81oD4r50NMjU2Ag</td>\n",
       "      <td>1</td>\n",
       "      <td>b'this place sucks. the customer service is ho...</td>\n",
       "    </tr>\n",
       "    <tr>\n",
       "      <th>6</th>\n",
       "      <td>AxeQEz3-s9_1TyIo-G7UQw</td>\n",
       "      <td>5</td>\n",
       "      <td>b\"if you like thai food, you have to try the o...</td>\n",
       "    </tr>\n",
       "    <tr>\n",
       "      <th>7</th>\n",
       "      <td>zdE82PiD6wquvjYLyhOJNA</td>\n",
       "      <td>5</td>\n",
       "      <td>b'amazing!!! i was referred here by a friend a...</td>\n",
       "    </tr>\n",
       "    <tr>\n",
       "      <th>8</th>\n",
       "      <td>EAwh1OmG6t6p3nRaZOW_AA</td>\n",
       "      <td>4</td>\n",
       "      <td>b'ribs = amazing2 hour wait time= not so amazi...</td>\n",
       "    </tr>\n",
       "    <tr>\n",
       "      <th>9</th>\n",
       "      <td>atVh8viqTj-sqDJ35tAYVg</td>\n",
       "      <td>2</td>\n",
       "      <td>b\"food is pretty good, not gonna lie. but you ...</td>\n",
       "    </tr>\n",
       "  </tbody>\n",
       "</table>\n",
       "</div>"
      ],
      "text/plain": [
       "              business_id  stars  \\\n",
       "0  iCQpiavjjPzJ5_3gPD5Ebg      2   \n",
       "1  pomGBqfbxcqPv14c3XH-ZQ      5   \n",
       "2  jtQARsP6P-LbkyjbO1qNGg      1   \n",
       "3  elqbBhBfElMNSrjFqW3now      2   \n",
       "4  Ums3gaP2qM3W1XcA5r6SsQ      5   \n",
       "5  vgfcTvK81oD4r50NMjU2Ag      1   \n",
       "6  AxeQEz3-s9_1TyIo-G7UQw      5   \n",
       "7  zdE82PiD6wquvjYLyhOJNA      5   \n",
       "8  EAwh1OmG6t6p3nRaZOW_AA      4   \n",
       "9  atVh8viqTj-sqDJ35tAYVg      2   \n",
       "\n",
       "                                                text  \n",
       "0  b\"the pizza was okay. not the best i've had. i...  \n",
       "1  b'i love this place! my fiance and i go here a...  \n",
       "2  b'terrible. dry corn bread. rib tips were all ...  \n",
       "3  b'back in 2005-2007 this place was my favorite...  \n",
       "4  b'delicious healthy food. the steak is amazing...  \n",
       "5  b'this place sucks. the customer service is ho...  \n",
       "6  b\"if you like thai food, you have to try the o...  \n",
       "7  b'amazing!!! i was referred here by a friend a...  \n",
       "8  b'ribs = amazing2 hour wait time= not so amazi...  \n",
       "9  b\"food is pretty good, not gonna lie. but you ...  "
      ]
     },
     "execution_count": 8,
     "metadata": {},
     "output_type": "execute_result"
    }
   ],
   "source": [
    "df[:10]"
   ]
  },
  {
   "cell_type": "code",
   "execution_count": 9,
   "metadata": {
    "collapsed": true
   },
   "outputs": [],
   "source": [
    "review_agg = df.groupby('business_id')['text'].sum() #it's series"
   ]
  },
  {
   "cell_type": "code",
   "execution_count": 10,
   "metadata": {
    "collapsed": true
   },
   "outputs": [],
   "source": [
    "df_review_agg = review_agg.to_frame().reset_index() #converting series to dataframe"
   ]
  },
  {
   "cell_type": "code",
   "execution_count": 11,
   "metadata": {},
   "outputs": [
    {
     "data": {
      "text/html": [
       "<div>\n",
       "<style>\n",
       "    .dataframe thead tr:only-child th {\n",
       "        text-align: right;\n",
       "    }\n",
       "\n",
       "    .dataframe thead th {\n",
       "        text-align: left;\n",
       "    }\n",
       "\n",
       "    .dataframe tbody tr th {\n",
       "        vertical-align: top;\n",
       "    }\n",
       "</style>\n",
       "<table border=\"1\" class=\"dataframe\">\n",
       "  <thead>\n",
       "    <tr style=\"text-align: right;\">\n",
       "      <th></th>\n",
       "      <th>business_id</th>\n",
       "      <th>text</th>\n",
       "    </tr>\n",
       "  </thead>\n",
       "  <tbody>\n",
       "    <tr>\n",
       "      <th>0</th>\n",
       "      <td>--1UhMGODdWsrMastO9DZw</td>\n",
       "      <td>b'came here for lunch last week and was pleasa...</td>\n",
       "    </tr>\n",
       "    <tr>\n",
       "      <th>1</th>\n",
       "      <td>--6MefnULPED_I942VcFNA</td>\n",
       "      <td>b\"the incredibly rude woman behind the cashier...</td>\n",
       "    </tr>\n",
       "    <tr>\n",
       "      <th>2</th>\n",
       "      <td>--7zmmkVg-IMGaXbuVd0SQ</td>\n",
       "      <td>b'great beer, great place, excellent service f...</td>\n",
       "    </tr>\n",
       "    <tr>\n",
       "      <th>3</th>\n",
       "      <td>--8LPVSo5i0Oo61X01sV9A</td>\n",
       "      <td>b'dr. lacognata is great.  he is a great liste...</td>\n",
       "    </tr>\n",
       "    <tr>\n",
       "      <th>4</th>\n",
       "      <td>--9QQLMTbFzLJ_oT-ON3Xw</td>\n",
       "      <td>b\"i've been going to this particular location ...</td>\n",
       "    </tr>\n",
       "    <tr>\n",
       "      <th>5</th>\n",
       "      <td>--9e1ONYQuAa-CB_Rrw7Tw</td>\n",
       "      <td>b\"it was a real up and down evening.apps - bbq...</td>\n",
       "    </tr>\n",
       "    <tr>\n",
       "      <th>6</th>\n",
       "      <td>--DaPTJW3-tB1vP-PfdTEg</td>\n",
       "      <td>b\"excellent and friendly service!  nice clean ...</td>\n",
       "    </tr>\n",
       "    <tr>\n",
       "      <th>7</th>\n",
       "      <td>--DdmeR16TRb3LsjG0ejrQ</td>\n",
       "      <td>b'i was really disappointed in this event. i b...</td>\n",
       "    </tr>\n",
       "    <tr>\n",
       "      <th>8</th>\n",
       "      <td>--EF5N7P70J_UYBTPypYlA</td>\n",
       "      <td>b\"owner is not friendly and didn't appear to b...</td>\n",
       "    </tr>\n",
       "    <tr>\n",
       "      <th>9</th>\n",
       "      <td>--EX4rRznJrltyn-34Jz1w</td>\n",
       "      <td>b\"it's bbw what can i say?! this location is i...</td>\n",
       "    </tr>\n",
       "  </tbody>\n",
       "</table>\n",
       "</div>"
      ],
      "text/plain": [
       "              business_id                                               text\n",
       "0  --1UhMGODdWsrMastO9DZw  b'came here for lunch last week and was pleasa...\n",
       "1  --6MefnULPED_I942VcFNA  b\"the incredibly rude woman behind the cashier...\n",
       "2  --7zmmkVg-IMGaXbuVd0SQ  b'great beer, great place, excellent service f...\n",
       "3  --8LPVSo5i0Oo61X01sV9A  b'dr. lacognata is great.  he is a great liste...\n",
       "4  --9QQLMTbFzLJ_oT-ON3Xw  b\"i've been going to this particular location ...\n",
       "5  --9e1ONYQuAa-CB_Rrw7Tw  b\"it was a real up and down evening.apps - bbq...\n",
       "6  --DaPTJW3-tB1vP-PfdTEg  b\"excellent and friendly service!  nice clean ...\n",
       "7  --DdmeR16TRb3LsjG0ejrQ  b'i was really disappointed in this event. i b...\n",
       "8  --EF5N7P70J_UYBTPypYlA  b\"owner is not friendly and didn't appear to b...\n",
       "9  --EX4rRznJrltyn-34Jz1w  b\"it's bbw what can i say?! this location is i..."
      ]
     },
     "execution_count": 11,
     "metadata": {},
     "output_type": "execute_result"
    }
   ],
   "source": [
    "df_review_agg[:10]"
   ]
  },
  {
   "cell_type": "code",
   "execution_count": 12,
   "metadata": {},
   "outputs": [
    {
     "data": {
      "text/plain": [
       "(188593, 2)"
      ]
     },
     "execution_count": 12,
     "metadata": {},
     "output_type": "execute_result"
    }
   ],
   "source": [
    "df_review_agg.shape"
   ]
  },
  {
   "cell_type": "markdown",
   "metadata": {},
   "source": [
    "# Converting business json to dataframe"
   ]
  },
  {
   "cell_type": "code",
   "execution_count": 13,
   "metadata": {
    "collapsed": true
   },
   "outputs": [],
   "source": [
    "ratingfile = open(\"rating_stars.tsv\",\"w\")\n",
    "rfile = csv.writer(ratingfile,delimiter=\"\\t\",quoting=csv.QUOTE_MINIMAL)\n",
    "rfile.writerow(['business_id','stars','review_count'])\n",
    "\n",
    "with open('yelp_academic_dataset_business.json',encoding=\"utf-8\") as f:\n",
    "    for line in f:\n",
    "        row=json.loads(line)\n",
    "        rfile.writerow([row['business_id'],row['stars'],row['review_count']])\n",
    "\n",
    "ratingfile.close()\n",
    "\n",
    "df_star = pd.read_csv('rating_stars.tsv',delimiter=\"\\t\",encoding=\"utf-8\")"
   ]
  },
  {
   "cell_type": "code",
   "execution_count": 14,
   "metadata": {},
   "outputs": [
    {
     "data": {
      "text/html": [
       "<div>\n",
       "<style>\n",
       "    .dataframe thead tr:only-child th {\n",
       "        text-align: right;\n",
       "    }\n",
       "\n",
       "    .dataframe thead th {\n",
       "        text-align: left;\n",
       "    }\n",
       "\n",
       "    .dataframe tbody tr th {\n",
       "        vertical-align: top;\n",
       "    }\n",
       "</style>\n",
       "<table border=\"1\" class=\"dataframe\">\n",
       "  <thead>\n",
       "    <tr style=\"text-align: right;\">\n",
       "      <th></th>\n",
       "      <th>business_id</th>\n",
       "      <th>stars</th>\n",
       "      <th>review_count</th>\n",
       "    </tr>\n",
       "  </thead>\n",
       "  <tbody>\n",
       "    <tr>\n",
       "      <th>0</th>\n",
       "      <td>Apn5Q_b6Nz61Tq4XzPdf9A</td>\n",
       "      <td>4.0</td>\n",
       "      <td>24</td>\n",
       "    </tr>\n",
       "    <tr>\n",
       "      <th>1</th>\n",
       "      <td>AjEbIBw6ZFfln7ePHha9PA</td>\n",
       "      <td>4.5</td>\n",
       "      <td>3</td>\n",
       "    </tr>\n",
       "    <tr>\n",
       "      <th>2</th>\n",
       "      <td>O8S5hYJ1SMc8fA4QBtVujA</td>\n",
       "      <td>4.0</td>\n",
       "      <td>5</td>\n",
       "    </tr>\n",
       "    <tr>\n",
       "      <th>3</th>\n",
       "      <td>bFzdJJ3wp3PZssNEsyU23g</td>\n",
       "      <td>1.5</td>\n",
       "      <td>8</td>\n",
       "    </tr>\n",
       "    <tr>\n",
       "      <th>4</th>\n",
       "      <td>8USyCYqpScwiNEb58Bt6CA</td>\n",
       "      <td>2.0</td>\n",
       "      <td>4</td>\n",
       "    </tr>\n",
       "    <tr>\n",
       "      <th>5</th>\n",
       "      <td>45bWSZtniwPRiqlivpS8Og</td>\n",
       "      <td>4.0</td>\n",
       "      <td>63</td>\n",
       "    </tr>\n",
       "    <tr>\n",
       "      <th>6</th>\n",
       "      <td>9A2quhZLyWk0akUetBd8hQ</td>\n",
       "      <td>4.0</td>\n",
       "      <td>7</td>\n",
       "    </tr>\n",
       "    <tr>\n",
       "      <th>7</th>\n",
       "      <td>6OuOZAok8ikONMS_T3EzXg</td>\n",
       "      <td>2.0</td>\n",
       "      <td>7</td>\n",
       "    </tr>\n",
       "    <tr>\n",
       "      <th>8</th>\n",
       "      <td>8-NRKkPY1UiFXW20WXKiXg</td>\n",
       "      <td>2.5</td>\n",
       "      <td>40</td>\n",
       "    </tr>\n",
       "    <tr>\n",
       "      <th>9</th>\n",
       "      <td>UTm5QZThPQlT35mkAcGOjg</td>\n",
       "      <td>3.5</td>\n",
       "      <td>3</td>\n",
       "    </tr>\n",
       "  </tbody>\n",
       "</table>\n",
       "</div>"
      ],
      "text/plain": [
       "              business_id  stars  review_count\n",
       "0  Apn5Q_b6Nz61Tq4XzPdf9A    4.0            24\n",
       "1  AjEbIBw6ZFfln7ePHha9PA    4.5             3\n",
       "2  O8S5hYJ1SMc8fA4QBtVujA    4.0             5\n",
       "3  bFzdJJ3wp3PZssNEsyU23g    1.5             8\n",
       "4  8USyCYqpScwiNEb58Bt6CA    2.0             4\n",
       "5  45bWSZtniwPRiqlivpS8Og    4.0            63\n",
       "6  9A2quhZLyWk0akUetBd8hQ    4.0             7\n",
       "7  6OuOZAok8ikONMS_T3EzXg    2.0             7\n",
       "8  8-NRKkPY1UiFXW20WXKiXg    2.5            40\n",
       "9  UTm5QZThPQlT35mkAcGOjg    3.5             3"
      ]
     },
     "execution_count": 14,
     "metadata": {},
     "output_type": "execute_result"
    }
   ],
   "source": [
    "df_star[:10]"
   ]
  },
  {
   "cell_type": "code",
   "execution_count": 15,
   "metadata": {},
   "outputs": [
    {
     "data": {
      "text/plain": [
       "(188593, 3)"
      ]
     },
     "execution_count": 15,
     "metadata": {},
     "output_type": "execute_result"
    }
   ],
   "source": [
    "df_star.shape"
   ]
  },
  {
   "cell_type": "markdown",
   "metadata": {},
   "source": [
    "# Combining both the dataframe"
   ]
  },
  {
   "cell_type": "code",
   "execution_count": 16,
   "metadata": {
    "collapsed": true
   },
   "outputs": [],
   "source": [
    "df_combined = pd.merge(df_review_agg, df_star, on='business_id')"
   ]
  },
  {
   "cell_type": "code",
   "execution_count": 17,
   "metadata": {},
   "outputs": [
    {
     "data": {
      "text/html": [
       "<div>\n",
       "<style>\n",
       "    .dataframe thead tr:only-child th {\n",
       "        text-align: right;\n",
       "    }\n",
       "\n",
       "    .dataframe thead th {\n",
       "        text-align: left;\n",
       "    }\n",
       "\n",
       "    .dataframe tbody tr th {\n",
       "        vertical-align: top;\n",
       "    }\n",
       "</style>\n",
       "<table border=\"1\" class=\"dataframe\">\n",
       "  <thead>\n",
       "    <tr style=\"text-align: right;\">\n",
       "      <th></th>\n",
       "      <th>business_id</th>\n",
       "      <th>text</th>\n",
       "      <th>stars</th>\n",
       "      <th>review_count</th>\n",
       "    </tr>\n",
       "  </thead>\n",
       "  <tbody>\n",
       "    <tr>\n",
       "      <th>0</th>\n",
       "      <td>--1UhMGODdWsrMastO9DZw</td>\n",
       "      <td>b'came here for lunch last week and was pleasa...</td>\n",
       "      <td>4.0</td>\n",
       "      <td>24</td>\n",
       "    </tr>\n",
       "    <tr>\n",
       "      <th>1</th>\n",
       "      <td>--6MefnULPED_I942VcFNA</td>\n",
       "      <td>b\"the incredibly rude woman behind the cashier...</td>\n",
       "      <td>3.0</td>\n",
       "      <td>39</td>\n",
       "    </tr>\n",
       "    <tr>\n",
       "      <th>2</th>\n",
       "      <td>--7zmmkVg-IMGaXbuVd0SQ</td>\n",
       "      <td>b'great beer, great place, excellent service f...</td>\n",
       "      <td>4.0</td>\n",
       "      <td>54</td>\n",
       "    </tr>\n",
       "    <tr>\n",
       "      <th>3</th>\n",
       "      <td>--8LPVSo5i0Oo61X01sV9A</td>\n",
       "      <td>b'dr. lacognata is great.  he is a great liste...</td>\n",
       "      <td>3.5</td>\n",
       "      <td>4</td>\n",
       "    </tr>\n",
       "    <tr>\n",
       "      <th>4</th>\n",
       "      <td>--9QQLMTbFzLJ_oT-ON3Xw</td>\n",
       "      <td>b\"i've been going to this particular location ...</td>\n",
       "      <td>3.5</td>\n",
       "      <td>11</td>\n",
       "    </tr>\n",
       "    <tr>\n",
       "      <th>5</th>\n",
       "      <td>--9e1ONYQuAa-CB_Rrw7Tw</td>\n",
       "      <td>b\"it was a real up and down evening.apps - bbq...</td>\n",
       "      <td>4.0</td>\n",
       "      <td>1546</td>\n",
       "    </tr>\n",
       "    <tr>\n",
       "      <th>6</th>\n",
       "      <td>--DaPTJW3-tB1vP-PfdTEg</td>\n",
       "      <td>b\"excellent and friendly service!  nice clean ...</td>\n",
       "      <td>3.5</td>\n",
       "      <td>45</td>\n",
       "    </tr>\n",
       "    <tr>\n",
       "      <th>7</th>\n",
       "      <td>--DdmeR16TRb3LsjG0ejrQ</td>\n",
       "      <td>b'i was really disappointed in this event. i b...</td>\n",
       "      <td>3.0</td>\n",
       "      <td>5</td>\n",
       "    </tr>\n",
       "    <tr>\n",
       "      <th>8</th>\n",
       "      <td>--EF5N7P70J_UYBTPypYlA</td>\n",
       "      <td>b\"owner is not friendly and didn't appear to b...</td>\n",
       "      <td>3.0</td>\n",
       "      <td>5</td>\n",
       "    </tr>\n",
       "    <tr>\n",
       "      <th>9</th>\n",
       "      <td>--EX4rRznJrltyn-34Jz1w</td>\n",
       "      <td>b\"it's bbw what can i say?! this location is i...</td>\n",
       "      <td>4.0</td>\n",
       "      <td>4</td>\n",
       "    </tr>\n",
       "  </tbody>\n",
       "</table>\n",
       "</div>"
      ],
      "text/plain": [
       "              business_id                                               text  \\\n",
       "0  --1UhMGODdWsrMastO9DZw  b'came here for lunch last week and was pleasa...   \n",
       "1  --6MefnULPED_I942VcFNA  b\"the incredibly rude woman behind the cashier...   \n",
       "2  --7zmmkVg-IMGaXbuVd0SQ  b'great beer, great place, excellent service f...   \n",
       "3  --8LPVSo5i0Oo61X01sV9A  b'dr. lacognata is great.  he is a great liste...   \n",
       "4  --9QQLMTbFzLJ_oT-ON3Xw  b\"i've been going to this particular location ...   \n",
       "5  --9e1ONYQuAa-CB_Rrw7Tw  b\"it was a real up and down evening.apps - bbq...   \n",
       "6  --DaPTJW3-tB1vP-PfdTEg  b\"excellent and friendly service!  nice clean ...   \n",
       "7  --DdmeR16TRb3LsjG0ejrQ  b'i was really disappointed in this event. i b...   \n",
       "8  --EF5N7P70J_UYBTPypYlA  b\"owner is not friendly and didn't appear to b...   \n",
       "9  --EX4rRznJrltyn-34Jz1w  b\"it's bbw what can i say?! this location is i...   \n",
       "\n",
       "   stars  review_count  \n",
       "0    4.0            24  \n",
       "1    3.0            39  \n",
       "2    4.0            54  \n",
       "3    3.5             4  \n",
       "4    3.5            11  \n",
       "5    4.0          1546  \n",
       "6    3.5            45  \n",
       "7    3.0             5  \n",
       "8    3.0             5  \n",
       "9    4.0             4  "
      ]
     },
     "execution_count": 17,
     "metadata": {},
     "output_type": "execute_result"
    }
   ],
   "source": [
    "df_combined[:10]"
   ]
  },
  {
   "cell_type": "code",
   "execution_count": 18,
   "metadata": {},
   "outputs": [
    {
     "data": {
      "text/plain": [
       "(188593, 4)"
      ]
     },
     "execution_count": 18,
     "metadata": {},
     "output_type": "execute_result"
    }
   ],
   "source": [
    "df_combined.shape"
   ]
  },
  {
   "cell_type": "markdown",
   "metadata": {},
   "source": [
    "# Normalizing the review_count using zscore"
   ]
  },
  {
   "cell_type": "code",
   "execution_count": 19,
   "metadata": {},
   "outputs": [
    {
     "data": {
      "text/html": [
       "<div>\n",
       "<style>\n",
       "    .dataframe thead tr:only-child th {\n",
       "        text-align: right;\n",
       "    }\n",
       "\n",
       "    .dataframe thead th {\n",
       "        text-align: left;\n",
       "    }\n",
       "\n",
       "    .dataframe tbody tr th {\n",
       "        vertical-align: top;\n",
       "    }\n",
       "</style>\n",
       "<table border=\"1\" class=\"dataframe\">\n",
       "  <thead>\n",
       "    <tr style=\"text-align: right;\">\n",
       "      <th></th>\n",
       "      <th>business_id</th>\n",
       "      <th>text</th>\n",
       "      <th>stars</th>\n",
       "      <th>review_count</th>\n",
       "      <th>normalized_review_count</th>\n",
       "    </tr>\n",
       "  </thead>\n",
       "  <tbody>\n",
       "    <tr>\n",
       "      <th>0</th>\n",
       "      <td>--1UhMGODdWsrMastO9DZw</td>\n",
       "      <td>b'came here for lunch last week and was pleasa...</td>\n",
       "      <td>4.0</td>\n",
       "      <td>24</td>\n",
       "      <td>-0.074885</td>\n",
       "    </tr>\n",
       "    <tr>\n",
       "      <th>1</th>\n",
       "      <td>--6MefnULPED_I942VcFNA</td>\n",
       "      <td>b\"the incredibly rude woman behind the cashier...</td>\n",
       "      <td>3.0</td>\n",
       "      <td>39</td>\n",
       "      <td>0.069174</td>\n",
       "    </tr>\n",
       "    <tr>\n",
       "      <th>2</th>\n",
       "      <td>--7zmmkVg-IMGaXbuVd0SQ</td>\n",
       "      <td>b'great beer, great place, excellent service f...</td>\n",
       "      <td>4.0</td>\n",
       "      <td>54</td>\n",
       "      <td>0.213233</td>\n",
       "    </tr>\n",
       "    <tr>\n",
       "      <th>3</th>\n",
       "      <td>--8LPVSo5i0Oo61X01sV9A</td>\n",
       "      <td>b'dr. lacognata is great.  he is a great liste...</td>\n",
       "      <td>3.5</td>\n",
       "      <td>4</td>\n",
       "      <td>-0.266964</td>\n",
       "    </tr>\n",
       "    <tr>\n",
       "      <th>4</th>\n",
       "      <td>--9QQLMTbFzLJ_oT-ON3Xw</td>\n",
       "      <td>b\"i've been going to this particular location ...</td>\n",
       "      <td>3.5</td>\n",
       "      <td>11</td>\n",
       "      <td>-0.199736</td>\n",
       "    </tr>\n",
       "    <tr>\n",
       "      <th>5</th>\n",
       "      <td>--9e1ONYQuAa-CB_Rrw7Tw</td>\n",
       "      <td>b\"it was a real up and down evening.apps - bbq...</td>\n",
       "      <td>4.0</td>\n",
       "      <td>1546</td>\n",
       "      <td>14.542311</td>\n",
       "    </tr>\n",
       "    <tr>\n",
       "      <th>6</th>\n",
       "      <td>--DaPTJW3-tB1vP-PfdTEg</td>\n",
       "      <td>b\"excellent and friendly service!  nice clean ...</td>\n",
       "      <td>3.5</td>\n",
       "      <td>45</td>\n",
       "      <td>0.126798</td>\n",
       "    </tr>\n",
       "    <tr>\n",
       "      <th>7</th>\n",
       "      <td>--DdmeR16TRb3LsjG0ejrQ</td>\n",
       "      <td>b'i was really disappointed in this event. i b...</td>\n",
       "      <td>3.0</td>\n",
       "      <td>5</td>\n",
       "      <td>-0.257360</td>\n",
       "    </tr>\n",
       "    <tr>\n",
       "      <th>8</th>\n",
       "      <td>--EF5N7P70J_UYBTPypYlA</td>\n",
       "      <td>b\"owner is not friendly and didn't appear to b...</td>\n",
       "      <td>3.0</td>\n",
       "      <td>5</td>\n",
       "      <td>-0.257360</td>\n",
       "    </tr>\n",
       "    <tr>\n",
       "      <th>9</th>\n",
       "      <td>--EX4rRznJrltyn-34Jz1w</td>\n",
       "      <td>b\"it's bbw what can i say?! this location is i...</td>\n",
       "      <td>4.0</td>\n",
       "      <td>4</td>\n",
       "      <td>-0.266964</td>\n",
       "    </tr>\n",
       "  </tbody>\n",
       "</table>\n",
       "</div>"
      ],
      "text/plain": [
       "              business_id                                               text  \\\n",
       "0  --1UhMGODdWsrMastO9DZw  b'came here for lunch last week and was pleasa...   \n",
       "1  --6MefnULPED_I942VcFNA  b\"the incredibly rude woman behind the cashier...   \n",
       "2  --7zmmkVg-IMGaXbuVd0SQ  b'great beer, great place, excellent service f...   \n",
       "3  --8LPVSo5i0Oo61X01sV9A  b'dr. lacognata is great.  he is a great liste...   \n",
       "4  --9QQLMTbFzLJ_oT-ON3Xw  b\"i've been going to this particular location ...   \n",
       "5  --9e1ONYQuAa-CB_Rrw7Tw  b\"it was a real up and down evening.apps - bbq...   \n",
       "6  --DaPTJW3-tB1vP-PfdTEg  b\"excellent and friendly service!  nice clean ...   \n",
       "7  --DdmeR16TRb3LsjG0ejrQ  b'i was really disappointed in this event. i b...   \n",
       "8  --EF5N7P70J_UYBTPypYlA  b\"owner is not friendly and didn't appear to b...   \n",
       "9  --EX4rRznJrltyn-34Jz1w  b\"it's bbw what can i say?! this location is i...   \n",
       "\n",
       "   stars  review_count  normalized_review_count  \n",
       "0    4.0            24                -0.074885  \n",
       "1    3.0            39                 0.069174  \n",
       "2    4.0            54                 0.213233  \n",
       "3    3.5             4                -0.266964  \n",
       "4    3.5            11                -0.199736  \n",
       "5    4.0          1546                14.542311  \n",
       "6    3.5            45                 0.126798  \n",
       "7    3.0             5                -0.257360  \n",
       "8    3.0             5                -0.257360  \n",
       "9    4.0             4                -0.266964  "
      ]
     },
     "execution_count": 19,
     "metadata": {},
     "output_type": "execute_result"
    }
   ],
   "source": [
    "from scipy.stats import zscore\n",
    "df_combined['normalized_review_count'] = zscore(df_combined['review_count'])\n",
    "df_combined[:10]"
   ]
  },
  {
   "cell_type": "markdown",
   "metadata": {},
   "source": [
    "# Normalizing the review_count using min_max formula"
   ]
  },
  {
   "cell_type": "code",
   "execution_count": 20,
   "metadata": {
    "collapsed": true
   },
   "outputs": [],
   "source": [
    "min_count= df_combined['review_count'].min()\n",
    "max_count= df_combined['review_count'].max()\n",
    "df_combined['norm_min_max_review_count'] = ((df_combined['review_count']-min_count)/(max_count-min_count))"
   ]
  },
  {
   "cell_type": "code",
   "execution_count": 21,
   "metadata": {
    "scrolled": true
   },
   "outputs": [
    {
     "data": {
      "text/html": [
       "<div>\n",
       "<style>\n",
       "    .dataframe thead tr:only-child th {\n",
       "        text-align: right;\n",
       "    }\n",
       "\n",
       "    .dataframe thead th {\n",
       "        text-align: left;\n",
       "    }\n",
       "\n",
       "    .dataframe tbody tr th {\n",
       "        vertical-align: top;\n",
       "    }\n",
       "</style>\n",
       "<table border=\"1\" class=\"dataframe\">\n",
       "  <thead>\n",
       "    <tr style=\"text-align: right;\">\n",
       "      <th></th>\n",
       "      <th>business_id</th>\n",
       "      <th>text</th>\n",
       "      <th>stars</th>\n",
       "      <th>review_count</th>\n",
       "      <th>normalized_review_count</th>\n",
       "      <th>norm_min_max_review_count</th>\n",
       "    </tr>\n",
       "  </thead>\n",
       "  <tbody>\n",
       "    <tr>\n",
       "      <th>0</th>\n",
       "      <td>--1UhMGODdWsrMastO9DZw</td>\n",
       "      <td>b'came here for lunch last week and was pleasa...</td>\n",
       "      <td>4.0</td>\n",
       "      <td>24</td>\n",
       "      <td>-0.074885</td>\n",
       "      <td>0.002637</td>\n",
       "    </tr>\n",
       "    <tr>\n",
       "      <th>1</th>\n",
       "      <td>--6MefnULPED_I942VcFNA</td>\n",
       "      <td>b\"the incredibly rude woman behind the cashier...</td>\n",
       "      <td>3.0</td>\n",
       "      <td>39</td>\n",
       "      <td>0.069174</td>\n",
       "      <td>0.004520</td>\n",
       "    </tr>\n",
       "    <tr>\n",
       "      <th>2</th>\n",
       "      <td>--7zmmkVg-IMGaXbuVd0SQ</td>\n",
       "      <td>b'great beer, great place, excellent service f...</td>\n",
       "      <td>4.0</td>\n",
       "      <td>54</td>\n",
       "      <td>0.213233</td>\n",
       "      <td>0.006403</td>\n",
       "    </tr>\n",
       "    <tr>\n",
       "      <th>3</th>\n",
       "      <td>--8LPVSo5i0Oo61X01sV9A</td>\n",
       "      <td>b'dr. lacognata is great.  he is a great liste...</td>\n",
       "      <td>3.5</td>\n",
       "      <td>4</td>\n",
       "      <td>-0.266964</td>\n",
       "      <td>0.000126</td>\n",
       "    </tr>\n",
       "    <tr>\n",
       "      <th>4</th>\n",
       "      <td>--9QQLMTbFzLJ_oT-ON3Xw</td>\n",
       "      <td>b\"i've been going to this particular location ...</td>\n",
       "      <td>3.5</td>\n",
       "      <td>11</td>\n",
       "      <td>-0.199736</td>\n",
       "      <td>0.001004</td>\n",
       "    </tr>\n",
       "    <tr>\n",
       "      <th>5</th>\n",
       "      <td>--9e1ONYQuAa-CB_Rrw7Tw</td>\n",
       "      <td>b\"it was a real up and down evening.apps - bbq...</td>\n",
       "      <td>4.0</td>\n",
       "      <td>1546</td>\n",
       "      <td>14.542311</td>\n",
       "      <td>0.193723</td>\n",
       "    </tr>\n",
       "    <tr>\n",
       "      <th>6</th>\n",
       "      <td>--DaPTJW3-tB1vP-PfdTEg</td>\n",
       "      <td>b\"excellent and friendly service!  nice clean ...</td>\n",
       "      <td>3.5</td>\n",
       "      <td>45</td>\n",
       "      <td>0.126798</td>\n",
       "      <td>0.005273</td>\n",
       "    </tr>\n",
       "    <tr>\n",
       "      <th>7</th>\n",
       "      <td>--DdmeR16TRb3LsjG0ejrQ</td>\n",
       "      <td>b'i was really disappointed in this event. i b...</td>\n",
       "      <td>3.0</td>\n",
       "      <td>5</td>\n",
       "      <td>-0.257360</td>\n",
       "      <td>0.000251</td>\n",
       "    </tr>\n",
       "    <tr>\n",
       "      <th>8</th>\n",
       "      <td>--EF5N7P70J_UYBTPypYlA</td>\n",
       "      <td>b\"owner is not friendly and didn't appear to b...</td>\n",
       "      <td>3.0</td>\n",
       "      <td>5</td>\n",
       "      <td>-0.257360</td>\n",
       "      <td>0.000251</td>\n",
       "    </tr>\n",
       "    <tr>\n",
       "      <th>9</th>\n",
       "      <td>--EX4rRznJrltyn-34Jz1w</td>\n",
       "      <td>b\"it's bbw what can i say?! this location is i...</td>\n",
       "      <td>4.0</td>\n",
       "      <td>4</td>\n",
       "      <td>-0.266964</td>\n",
       "      <td>0.000126</td>\n",
       "    </tr>\n",
       "  </tbody>\n",
       "</table>\n",
       "</div>"
      ],
      "text/plain": [
       "              business_id                                               text  \\\n",
       "0  --1UhMGODdWsrMastO9DZw  b'came here for lunch last week and was pleasa...   \n",
       "1  --6MefnULPED_I942VcFNA  b\"the incredibly rude woman behind the cashier...   \n",
       "2  --7zmmkVg-IMGaXbuVd0SQ  b'great beer, great place, excellent service f...   \n",
       "3  --8LPVSo5i0Oo61X01sV9A  b'dr. lacognata is great.  he is a great liste...   \n",
       "4  --9QQLMTbFzLJ_oT-ON3Xw  b\"i've been going to this particular location ...   \n",
       "5  --9e1ONYQuAa-CB_Rrw7Tw  b\"it was a real up and down evening.apps - bbq...   \n",
       "6  --DaPTJW3-tB1vP-PfdTEg  b\"excellent and friendly service!  nice clean ...   \n",
       "7  --DdmeR16TRb3LsjG0ejrQ  b'i was really disappointed in this event. i b...   \n",
       "8  --EF5N7P70J_UYBTPypYlA  b\"owner is not friendly and didn't appear to b...   \n",
       "9  --EX4rRznJrltyn-34Jz1w  b\"it's bbw what can i say?! this location is i...   \n",
       "\n",
       "   stars  review_count  normalized_review_count  norm_min_max_review_count  \n",
       "0    4.0            24                -0.074885                   0.002637  \n",
       "1    3.0            39                 0.069174                   0.004520  \n",
       "2    4.0            54                 0.213233                   0.006403  \n",
       "3    3.5             4                -0.266964                   0.000126  \n",
       "4    3.5            11                -0.199736                   0.001004  \n",
       "5    4.0          1546                14.542311                   0.193723  \n",
       "6    3.5            45                 0.126798                   0.005273  \n",
       "7    3.0             5                -0.257360                   0.000251  \n",
       "8    3.0             5                -0.257360                   0.000251  \n",
       "9    4.0             4                -0.266964                   0.000126  "
      ]
     },
     "execution_count": 21,
     "metadata": {},
     "output_type": "execute_result"
    }
   ],
   "source": [
    "df_combined[:10]"
   ]
  },
  {
   "cell_type": "markdown",
   "metadata": {},
   "source": [
    "# Filtering the dataset based on review_count"
   ]
  },
  {
   "cell_type": "code",
   "execution_count": 22,
   "metadata": {
    "collapsed": true
   },
   "outputs": [],
   "source": [
    "df_combined_refined = df_combined[(df_combined.review_count>40) & (df_combined.review_count<4000)]"
   ]
  },
  {
   "cell_type": "code",
   "execution_count": 23,
   "metadata": {},
   "outputs": [
    {
     "data": {
      "text/plain": [
       "(30283, 6)"
      ]
     },
     "execution_count": 23,
     "metadata": {},
     "output_type": "execute_result"
    }
   ],
   "source": [
    "df_combined_refined.shape"
   ]
  },
  {
   "cell_type": "code",
   "execution_count": 24,
   "metadata": {},
   "outputs": [
    {
     "data": {
      "text/html": [
       "<div>\n",
       "<style>\n",
       "    .dataframe thead tr:only-child th {\n",
       "        text-align: right;\n",
       "    }\n",
       "\n",
       "    .dataframe thead th {\n",
       "        text-align: left;\n",
       "    }\n",
       "\n",
       "    .dataframe tbody tr th {\n",
       "        vertical-align: top;\n",
       "    }\n",
       "</style>\n",
       "<table border=\"1\" class=\"dataframe\">\n",
       "  <thead>\n",
       "    <tr style=\"text-align: right;\">\n",
       "      <th></th>\n",
       "      <th>business_id</th>\n",
       "      <th>text</th>\n",
       "      <th>stars</th>\n",
       "      <th>review_count</th>\n",
       "      <th>normalized_review_count</th>\n",
       "      <th>norm_min_max_review_count</th>\n",
       "    </tr>\n",
       "  </thead>\n",
       "  <tbody>\n",
       "    <tr>\n",
       "      <th>2</th>\n",
       "      <td>--7zmmkVg-IMGaXbuVd0SQ</td>\n",
       "      <td>b'great beer, great place, excellent service f...</td>\n",
       "      <td>4.0</td>\n",
       "      <td>54</td>\n",
       "      <td>0.213233</td>\n",
       "      <td>0.006403</td>\n",
       "    </tr>\n",
       "    <tr>\n",
       "      <th>5</th>\n",
       "      <td>--9e1ONYQuAa-CB_Rrw7Tw</td>\n",
       "      <td>b\"it was a real up and down evening.apps - bbq...</td>\n",
       "      <td>4.0</td>\n",
       "      <td>1546</td>\n",
       "      <td>14.542311</td>\n",
       "      <td>0.193723</td>\n",
       "    </tr>\n",
       "    <tr>\n",
       "      <th>6</th>\n",
       "      <td>--DaPTJW3-tB1vP-PfdTEg</td>\n",
       "      <td>b\"excellent and friendly service!  nice clean ...</td>\n",
       "      <td>3.5</td>\n",
       "      <td>45</td>\n",
       "      <td>0.126798</td>\n",
       "      <td>0.005273</td>\n",
       "    </tr>\n",
       "    <tr>\n",
       "      <th>10</th>\n",
       "      <td>--FBCX-N37CMYDfs790Bnw</td>\n",
       "      <td>b'the bar is dark and smokey, but they have a ...</td>\n",
       "      <td>4.0</td>\n",
       "      <td>125</td>\n",
       "      <td>0.895113</td>\n",
       "      <td>0.015317</td>\n",
       "    </tr>\n",
       "    <tr>\n",
       "      <th>14</th>\n",
       "      <td>--I7YYLada0tSLkORTHb5Q</td>\n",
       "      <td>b\"my husband and i stopped here at random, and...</td>\n",
       "      <td>3.5</td>\n",
       "      <td>83</td>\n",
       "      <td>0.491748</td>\n",
       "      <td>0.010044</td>\n",
       "    </tr>\n",
       "    <tr>\n",
       "      <th>20</th>\n",
       "      <td>--SrzpvFLwP_YFwB_Cetow</td>\n",
       "      <td>b\"it's my first time writing review on yelp. b...</td>\n",
       "      <td>3.5</td>\n",
       "      <td>44</td>\n",
       "      <td>0.117194</td>\n",
       "      <td>0.005148</td>\n",
       "    </tr>\n",
       "    <tr>\n",
       "      <th>28</th>\n",
       "      <td>--cZ6Hhc9F7VkKXxHMVZSQ</td>\n",
       "      <td>b'our family of five got the latin combo-- ful...</td>\n",
       "      <td>4.0</td>\n",
       "      <td>333</td>\n",
       "      <td>2.892732</td>\n",
       "      <td>0.041431</td>\n",
       "    </tr>\n",
       "    <tr>\n",
       "      <th>30</th>\n",
       "      <td>--cjBEbXMI2obtaRHNSFrA</td>\n",
       "      <td>b'swindled of a $5 cover per head the doorman ...</td>\n",
       "      <td>3.0</td>\n",
       "      <td>63</td>\n",
       "      <td>0.299669</td>\n",
       "      <td>0.007533</td>\n",
       "    </tr>\n",
       "    <tr>\n",
       "      <th>45</th>\n",
       "      <td>--qvQS4MigHPykD2GV0-zw</td>\n",
       "      <td>b'what a fantastic moving company! it was easy...</td>\n",
       "      <td>4.0</td>\n",
       "      <td>43</td>\n",
       "      <td>0.107590</td>\n",
       "      <td>0.005022</td>\n",
       "    </tr>\n",
       "    <tr>\n",
       "      <th>47</th>\n",
       "      <td>--ujyvoQlwVoBgMYtADiLA</td>\n",
       "      <td>b'ok i have been here twice. both times were v...</td>\n",
       "      <td>3.5</td>\n",
       "      <td>71</td>\n",
       "      <td>0.376500</td>\n",
       "      <td>0.008537</td>\n",
       "    </tr>\n",
       "  </tbody>\n",
       "</table>\n",
       "</div>"
      ],
      "text/plain": [
       "               business_id                                               text  \\\n",
       "2   --7zmmkVg-IMGaXbuVd0SQ  b'great beer, great place, excellent service f...   \n",
       "5   --9e1ONYQuAa-CB_Rrw7Tw  b\"it was a real up and down evening.apps - bbq...   \n",
       "6   --DaPTJW3-tB1vP-PfdTEg  b\"excellent and friendly service!  nice clean ...   \n",
       "10  --FBCX-N37CMYDfs790Bnw  b'the bar is dark and smokey, but they have a ...   \n",
       "14  --I7YYLada0tSLkORTHb5Q  b\"my husband and i stopped here at random, and...   \n",
       "20  --SrzpvFLwP_YFwB_Cetow  b\"it's my first time writing review on yelp. b...   \n",
       "28  --cZ6Hhc9F7VkKXxHMVZSQ  b'our family of five got the latin combo-- ful...   \n",
       "30  --cjBEbXMI2obtaRHNSFrA  b'swindled of a $5 cover per head the doorman ...   \n",
       "45  --qvQS4MigHPykD2GV0-zw  b'what a fantastic moving company! it was easy...   \n",
       "47  --ujyvoQlwVoBgMYtADiLA  b'ok i have been here twice. both times were v...   \n",
       "\n",
       "    stars  review_count  normalized_review_count  norm_min_max_review_count  \n",
       "2     4.0            54                 0.213233                   0.006403  \n",
       "5     4.0          1546                14.542311                   0.193723  \n",
       "6     3.5            45                 0.126798                   0.005273  \n",
       "10    4.0           125                 0.895113                   0.015317  \n",
       "14    3.5            83                 0.491748                   0.010044  \n",
       "20    3.5            44                 0.117194                   0.005148  \n",
       "28    4.0           333                 2.892732                   0.041431  \n",
       "30    3.0            63                 0.299669                   0.007533  \n",
       "45    4.0            43                 0.107590                   0.005022  \n",
       "47    3.5            71                 0.376500                   0.008537  "
      ]
     },
     "execution_count": 24,
     "metadata": {},
     "output_type": "execute_result"
    }
   ],
   "source": [
    "df_combined_refined[:10]"
   ]
  },
  {
   "cell_type": "code",
   "execution_count": 25,
   "metadata": {},
   "outputs": [
    {
     "name": "stderr",
     "output_type": "stream",
     "text": [
      "C:\\Users\\Mardavkumar\\Anaconda3\\lib\\site-packages\\ipykernel_launcher.py:1: SettingWithCopyWarning: \n",
      "A value is trying to be set on a copy of a slice from a DataFrame.\n",
      "Try using .loc[row_indexer,col_indexer] = value instead\n",
      "\n",
      "See the caveats in the documentation: http://pandas.pydata.org/pandas-docs/stable/indexing.html#indexing-view-versus-copy\n",
      "  \"\"\"Entry point for launching an IPython kernel.\n"
     ]
    }
   ],
   "source": [
    "df_combined_refined[\"text\"] = df_combined_refined['text'].str.replace('[^\\w\\s]','') #removing punctuation "
   ]
  },
  {
   "cell_type": "code",
   "execution_count": 26,
   "metadata": {},
   "outputs": [
    {
     "data": {
      "text/html": [
       "<div>\n",
       "<style>\n",
       "    .dataframe thead tr:only-child th {\n",
       "        text-align: right;\n",
       "    }\n",
       "\n",
       "    .dataframe thead th {\n",
       "        text-align: left;\n",
       "    }\n",
       "\n",
       "    .dataframe tbody tr th {\n",
       "        vertical-align: top;\n",
       "    }\n",
       "</style>\n",
       "<table border=\"1\" class=\"dataframe\">\n",
       "  <thead>\n",
       "    <tr style=\"text-align: right;\">\n",
       "      <th></th>\n",
       "      <th>business_id</th>\n",
       "      <th>text</th>\n",
       "      <th>stars</th>\n",
       "      <th>review_count</th>\n",
       "      <th>normalized_review_count</th>\n",
       "      <th>norm_min_max_review_count</th>\n",
       "    </tr>\n",
       "  </thead>\n",
       "  <tbody>\n",
       "    <tr>\n",
       "      <th>2</th>\n",
       "      <td>--7zmmkVg-IMGaXbuVd0SQ</td>\n",
       "      <td>bgreat beer great place excellent service from...</td>\n",
       "      <td>4.0</td>\n",
       "      <td>54</td>\n",
       "      <td>0.213233</td>\n",
       "      <td>0.006403</td>\n",
       "    </tr>\n",
       "    <tr>\n",
       "      <th>5</th>\n",
       "      <td>--9e1ONYQuAa-CB_Rrw7Tw</td>\n",
       "      <td>bit was a real up and down eveningapps  bbq sh...</td>\n",
       "      <td>4.0</td>\n",
       "      <td>1546</td>\n",
       "      <td>14.542311</td>\n",
       "      <td>0.193723</td>\n",
       "    </tr>\n",
       "    <tr>\n",
       "      <th>6</th>\n",
       "      <td>--DaPTJW3-tB1vP-PfdTEg</td>\n",
       "      <td>bexcellent and friendly service  nice clean re...</td>\n",
       "      <td>3.5</td>\n",
       "      <td>45</td>\n",
       "      <td>0.126798</td>\n",
       "      <td>0.005273</td>\n",
       "    </tr>\n",
       "    <tr>\n",
       "      <th>10</th>\n",
       "      <td>--FBCX-N37CMYDfs790Bnw</td>\n",
       "      <td>bthe bar is dark and smokey but they have a fa...</td>\n",
       "      <td>4.0</td>\n",
       "      <td>125</td>\n",
       "      <td>0.895113</td>\n",
       "      <td>0.015317</td>\n",
       "    </tr>\n",
       "    <tr>\n",
       "      <th>14</th>\n",
       "      <td>--I7YYLada0tSLkORTHb5Q</td>\n",
       "      <td>bmy husband and i stopped here at random and i...</td>\n",
       "      <td>3.5</td>\n",
       "      <td>83</td>\n",
       "      <td>0.491748</td>\n",
       "      <td>0.010044</td>\n",
       "    </tr>\n",
       "    <tr>\n",
       "      <th>20</th>\n",
       "      <td>--SrzpvFLwP_YFwB_Cetow</td>\n",
       "      <td>bits my first time writing review on yelp but ...</td>\n",
       "      <td>3.5</td>\n",
       "      <td>44</td>\n",
       "      <td>0.117194</td>\n",
       "      <td>0.005148</td>\n",
       "    </tr>\n",
       "    <tr>\n",
       "      <th>28</th>\n",
       "      <td>--cZ6Hhc9F7VkKXxHMVZSQ</td>\n",
       "      <td>bour family of five got the latin combo full r...</td>\n",
       "      <td>4.0</td>\n",
       "      <td>333</td>\n",
       "      <td>2.892732</td>\n",
       "      <td>0.041431</td>\n",
       "    </tr>\n",
       "    <tr>\n",
       "      <th>30</th>\n",
       "      <td>--cjBEbXMI2obtaRHNSFrA</td>\n",
       "      <td>bswindled of a 5 cover per head the doorman sa...</td>\n",
       "      <td>3.0</td>\n",
       "      <td>63</td>\n",
       "      <td>0.299669</td>\n",
       "      <td>0.007533</td>\n",
       "    </tr>\n",
       "    <tr>\n",
       "      <th>45</th>\n",
       "      <td>--qvQS4MigHPykD2GV0-zw</td>\n",
       "      <td>bwhat a fantastic moving company it was easy t...</td>\n",
       "      <td>4.0</td>\n",
       "      <td>43</td>\n",
       "      <td>0.107590</td>\n",
       "      <td>0.005022</td>\n",
       "    </tr>\n",
       "    <tr>\n",
       "      <th>47</th>\n",
       "      <td>--ujyvoQlwVoBgMYtADiLA</td>\n",
       "      <td>bok i have been here twice both times were ver...</td>\n",
       "      <td>3.5</td>\n",
       "      <td>71</td>\n",
       "      <td>0.376500</td>\n",
       "      <td>0.008537</td>\n",
       "    </tr>\n",
       "  </tbody>\n",
       "</table>\n",
       "</div>"
      ],
      "text/plain": [
       "               business_id                                               text  \\\n",
       "2   --7zmmkVg-IMGaXbuVd0SQ  bgreat beer great place excellent service from...   \n",
       "5   --9e1ONYQuAa-CB_Rrw7Tw  bit was a real up and down eveningapps  bbq sh...   \n",
       "6   --DaPTJW3-tB1vP-PfdTEg  bexcellent and friendly service  nice clean re...   \n",
       "10  --FBCX-N37CMYDfs790Bnw  bthe bar is dark and smokey but they have a fa...   \n",
       "14  --I7YYLada0tSLkORTHb5Q  bmy husband and i stopped here at random and i...   \n",
       "20  --SrzpvFLwP_YFwB_Cetow  bits my first time writing review on yelp but ...   \n",
       "28  --cZ6Hhc9F7VkKXxHMVZSQ  bour family of five got the latin combo full r...   \n",
       "30  --cjBEbXMI2obtaRHNSFrA  bswindled of a 5 cover per head the doorman sa...   \n",
       "45  --qvQS4MigHPykD2GV0-zw  bwhat a fantastic moving company it was easy t...   \n",
       "47  --ujyvoQlwVoBgMYtADiLA  bok i have been here twice both times were ver...   \n",
       "\n",
       "    stars  review_count  normalized_review_count  norm_min_max_review_count  \n",
       "2     4.0            54                 0.213233                   0.006403  \n",
       "5     4.0          1546                14.542311                   0.193723  \n",
       "6     3.5            45                 0.126798                   0.005273  \n",
       "10    4.0           125                 0.895113                   0.015317  \n",
       "14    3.5            83                 0.491748                   0.010044  \n",
       "20    3.5            44                 0.117194                   0.005148  \n",
       "28    4.0           333                 2.892732                   0.041431  \n",
       "30    3.0            63                 0.299669                   0.007533  \n",
       "45    4.0            43                 0.107590                   0.005022  \n",
       "47    3.5            71                 0.376500                   0.008537  "
      ]
     },
     "execution_count": 26,
     "metadata": {},
     "output_type": "execute_result"
    }
   ],
   "source": [
    "df_combined_refined[:10]"
   ]
  },
  {
   "cell_type": "code",
   "execution_count": 27,
   "metadata": {},
   "outputs": [
    {
     "name": "stderr",
     "output_type": "stream",
     "text": [
      "C:\\Users\\Mardavkumar\\Anaconda3\\lib\\site-packages\\ipykernel_launcher.py:1: SettingWithCopyWarning: \n",
      "A value is trying to be set on a copy of a slice from a DataFrame.\n",
      "Try using .loc[row_indexer,col_indexer] = value instead\n",
      "\n",
      "See the caveats in the documentation: http://pandas.pydata.org/pandas-docs/stable/indexing.html#indexing-view-versus-copy\n",
      "  \"\"\"Entry point for launching an IPython kernel.\n"
     ]
    }
   ],
   "source": [
    "df_combined_refined['text'] = df_combined_refined['text'].str[1:] #getting rid of first b tricky !"
   ]
  },
  {
   "cell_type": "code",
   "execution_count": 28,
   "metadata": {},
   "outputs": [
    {
     "data": {
      "text/html": [
       "<div>\n",
       "<style>\n",
       "    .dataframe thead tr:only-child th {\n",
       "        text-align: right;\n",
       "    }\n",
       "\n",
       "    .dataframe thead th {\n",
       "        text-align: left;\n",
       "    }\n",
       "\n",
       "    .dataframe tbody tr th {\n",
       "        vertical-align: top;\n",
       "    }\n",
       "</style>\n",
       "<table border=\"1\" class=\"dataframe\">\n",
       "  <thead>\n",
       "    <tr style=\"text-align: right;\">\n",
       "      <th></th>\n",
       "      <th>business_id</th>\n",
       "      <th>text</th>\n",
       "      <th>stars</th>\n",
       "      <th>review_count</th>\n",
       "      <th>normalized_review_count</th>\n",
       "      <th>norm_min_max_review_count</th>\n",
       "    </tr>\n",
       "  </thead>\n",
       "  <tbody>\n",
       "    <tr>\n",
       "      <th>2</th>\n",
       "      <td>--7zmmkVg-IMGaXbuVd0SQ</td>\n",
       "      <td>great beer great place excellent service from ...</td>\n",
       "      <td>4.0</td>\n",
       "      <td>54</td>\n",
       "      <td>0.213233</td>\n",
       "      <td>0.006403</td>\n",
       "    </tr>\n",
       "    <tr>\n",
       "      <th>5</th>\n",
       "      <td>--9e1ONYQuAa-CB_Rrw7Tw</td>\n",
       "      <td>it was a real up and down eveningapps  bbq shr...</td>\n",
       "      <td>4.0</td>\n",
       "      <td>1546</td>\n",
       "      <td>14.542311</td>\n",
       "      <td>0.193723</td>\n",
       "    </tr>\n",
       "    <tr>\n",
       "      <th>6</th>\n",
       "      <td>--DaPTJW3-tB1vP-PfdTEg</td>\n",
       "      <td>excellent and friendly service  nice clean res...</td>\n",
       "      <td>3.5</td>\n",
       "      <td>45</td>\n",
       "      <td>0.126798</td>\n",
       "      <td>0.005273</td>\n",
       "    </tr>\n",
       "    <tr>\n",
       "      <th>10</th>\n",
       "      <td>--FBCX-N37CMYDfs790Bnw</td>\n",
       "      <td>the bar is dark and smokey but they have a fan...</td>\n",
       "      <td>4.0</td>\n",
       "      <td>125</td>\n",
       "      <td>0.895113</td>\n",
       "      <td>0.015317</td>\n",
       "    </tr>\n",
       "    <tr>\n",
       "      <th>14</th>\n",
       "      <td>--I7YYLada0tSLkORTHb5Q</td>\n",
       "      <td>my husband and i stopped here at random and i ...</td>\n",
       "      <td>3.5</td>\n",
       "      <td>83</td>\n",
       "      <td>0.491748</td>\n",
       "      <td>0.010044</td>\n",
       "    </tr>\n",
       "    <tr>\n",
       "      <th>20</th>\n",
       "      <td>--SrzpvFLwP_YFwB_Cetow</td>\n",
       "      <td>its my first time writing review on yelp but i...</td>\n",
       "      <td>3.5</td>\n",
       "      <td>44</td>\n",
       "      <td>0.117194</td>\n",
       "      <td>0.005148</td>\n",
       "    </tr>\n",
       "    <tr>\n",
       "      <th>28</th>\n",
       "      <td>--cZ6Hhc9F7VkKXxHMVZSQ</td>\n",
       "      <td>our family of five got the latin combo full ro...</td>\n",
       "      <td>4.0</td>\n",
       "      <td>333</td>\n",
       "      <td>2.892732</td>\n",
       "      <td>0.041431</td>\n",
       "    </tr>\n",
       "    <tr>\n",
       "      <th>30</th>\n",
       "      <td>--cjBEbXMI2obtaRHNSFrA</td>\n",
       "      <td>swindled of a 5 cover per head the doorman saw...</td>\n",
       "      <td>3.0</td>\n",
       "      <td>63</td>\n",
       "      <td>0.299669</td>\n",
       "      <td>0.007533</td>\n",
       "    </tr>\n",
       "    <tr>\n",
       "      <th>45</th>\n",
       "      <td>--qvQS4MigHPykD2GV0-zw</td>\n",
       "      <td>what a fantastic moving company it was easy to...</td>\n",
       "      <td>4.0</td>\n",
       "      <td>43</td>\n",
       "      <td>0.107590</td>\n",
       "      <td>0.005022</td>\n",
       "    </tr>\n",
       "    <tr>\n",
       "      <th>47</th>\n",
       "      <td>--ujyvoQlwVoBgMYtADiLA</td>\n",
       "      <td>ok i have been here twice both times were very...</td>\n",
       "      <td>3.5</td>\n",
       "      <td>71</td>\n",
       "      <td>0.376500</td>\n",
       "      <td>0.008537</td>\n",
       "    </tr>\n",
       "  </tbody>\n",
       "</table>\n",
       "</div>"
      ],
      "text/plain": [
       "               business_id                                               text  \\\n",
       "2   --7zmmkVg-IMGaXbuVd0SQ  great beer great place excellent service from ...   \n",
       "5   --9e1ONYQuAa-CB_Rrw7Tw  it was a real up and down eveningapps  bbq shr...   \n",
       "6   --DaPTJW3-tB1vP-PfdTEg  excellent and friendly service  nice clean res...   \n",
       "10  --FBCX-N37CMYDfs790Bnw  the bar is dark and smokey but they have a fan...   \n",
       "14  --I7YYLada0tSLkORTHb5Q  my husband and i stopped here at random and i ...   \n",
       "20  --SrzpvFLwP_YFwB_Cetow  its my first time writing review on yelp but i...   \n",
       "28  --cZ6Hhc9F7VkKXxHMVZSQ  our family of five got the latin combo full ro...   \n",
       "30  --cjBEbXMI2obtaRHNSFrA  swindled of a 5 cover per head the doorman saw...   \n",
       "45  --qvQS4MigHPykD2GV0-zw  what a fantastic moving company it was easy to...   \n",
       "47  --ujyvoQlwVoBgMYtADiLA  ok i have been here twice both times were very...   \n",
       "\n",
       "    stars  review_count  normalized_review_count  norm_min_max_review_count  \n",
       "2     4.0            54                 0.213233                   0.006403  \n",
       "5     4.0          1546                14.542311                   0.193723  \n",
       "6     3.5            45                 0.126798                   0.005273  \n",
       "10    4.0           125                 0.895113                   0.015317  \n",
       "14    3.5            83                 0.491748                   0.010044  \n",
       "20    3.5            44                 0.117194                   0.005148  \n",
       "28    4.0           333                 2.892732                   0.041431  \n",
       "30    3.0            63                 0.299669                   0.007533  \n",
       "45    4.0            43                 0.107590                   0.005022  \n",
       "47    3.5            71                 0.376500                   0.008537  "
      ]
     },
     "execution_count": 28,
     "metadata": {},
     "output_type": "execute_result"
    }
   ],
   "source": [
    "df_combined_refined[:10]"
   ]
  },
  {
   "cell_type": "code",
   "execution_count": 29,
   "metadata": {},
   "outputs": [
    {
     "name": "stderr",
     "output_type": "stream",
     "text": [
      "C:\\Users\\Mardavkumar\\Anaconda3\\lib\\site-packages\\ipykernel_launcher.py:1: SettingWithCopyWarning: \n",
      "A value is trying to be set on a copy of a slice from a DataFrame.\n",
      "Try using .loc[row_indexer,col_indexer] = value instead\n",
      "\n",
      "See the caveats in the documentation: http://pandas.pydata.org/pandas-docs/stable/indexing.html#indexing-view-versus-copy\n",
      "  \"\"\"Entry point for launching an IPython kernel.\n"
     ]
    }
   ],
   "source": [
    "df_combined_refined['text'] = df_combined_refined['text'].str.replace('\\d+', '') #removing digits"
   ]
  },
  {
   "cell_type": "code",
   "execution_count": 30,
   "metadata": {},
   "outputs": [
    {
     "data": {
      "text/html": [
       "<div>\n",
       "<style>\n",
       "    .dataframe thead tr:only-child th {\n",
       "        text-align: right;\n",
       "    }\n",
       "\n",
       "    .dataframe thead th {\n",
       "        text-align: left;\n",
       "    }\n",
       "\n",
       "    .dataframe tbody tr th {\n",
       "        vertical-align: top;\n",
       "    }\n",
       "</style>\n",
       "<table border=\"1\" class=\"dataframe\">\n",
       "  <thead>\n",
       "    <tr style=\"text-align: right;\">\n",
       "      <th></th>\n",
       "      <th>business_id</th>\n",
       "      <th>text</th>\n",
       "      <th>stars</th>\n",
       "      <th>review_count</th>\n",
       "      <th>normalized_review_count</th>\n",
       "      <th>norm_min_max_review_count</th>\n",
       "    </tr>\n",
       "  </thead>\n",
       "  <tbody>\n",
       "    <tr>\n",
       "      <th>2</th>\n",
       "      <td>--7zmmkVg-IMGaXbuVd0SQ</td>\n",
       "      <td>great beer great place excellent service from ...</td>\n",
       "      <td>4.0</td>\n",
       "      <td>54</td>\n",
       "      <td>0.213233</td>\n",
       "      <td>0.006403</td>\n",
       "    </tr>\n",
       "    <tr>\n",
       "      <th>5</th>\n",
       "      <td>--9e1ONYQuAa-CB_Rrw7Tw</td>\n",
       "      <td>it was a real up and down eveningapps  bbq shr...</td>\n",
       "      <td>4.0</td>\n",
       "      <td>1546</td>\n",
       "      <td>14.542311</td>\n",
       "      <td>0.193723</td>\n",
       "    </tr>\n",
       "    <tr>\n",
       "      <th>6</th>\n",
       "      <td>--DaPTJW3-tB1vP-PfdTEg</td>\n",
       "      <td>excellent and friendly service  nice clean res...</td>\n",
       "      <td>3.5</td>\n",
       "      <td>45</td>\n",
       "      <td>0.126798</td>\n",
       "      <td>0.005273</td>\n",
       "    </tr>\n",
       "    <tr>\n",
       "      <th>10</th>\n",
       "      <td>--FBCX-N37CMYDfs790Bnw</td>\n",
       "      <td>the bar is dark and smokey but they have a fan...</td>\n",
       "      <td>4.0</td>\n",
       "      <td>125</td>\n",
       "      <td>0.895113</td>\n",
       "      <td>0.015317</td>\n",
       "    </tr>\n",
       "    <tr>\n",
       "      <th>14</th>\n",
       "      <td>--I7YYLada0tSLkORTHb5Q</td>\n",
       "      <td>my husband and i stopped here at random and i ...</td>\n",
       "      <td>3.5</td>\n",
       "      <td>83</td>\n",
       "      <td>0.491748</td>\n",
       "      <td>0.010044</td>\n",
       "    </tr>\n",
       "    <tr>\n",
       "      <th>20</th>\n",
       "      <td>--SrzpvFLwP_YFwB_Cetow</td>\n",
       "      <td>its my first time writing review on yelp but i...</td>\n",
       "      <td>3.5</td>\n",
       "      <td>44</td>\n",
       "      <td>0.117194</td>\n",
       "      <td>0.005148</td>\n",
       "    </tr>\n",
       "    <tr>\n",
       "      <th>28</th>\n",
       "      <td>--cZ6Hhc9F7VkKXxHMVZSQ</td>\n",
       "      <td>our family of five got the latin combo full ro...</td>\n",
       "      <td>4.0</td>\n",
       "      <td>333</td>\n",
       "      <td>2.892732</td>\n",
       "      <td>0.041431</td>\n",
       "    </tr>\n",
       "    <tr>\n",
       "      <th>30</th>\n",
       "      <td>--cjBEbXMI2obtaRHNSFrA</td>\n",
       "      <td>swindled of a  cover per head the doorman saw ...</td>\n",
       "      <td>3.0</td>\n",
       "      <td>63</td>\n",
       "      <td>0.299669</td>\n",
       "      <td>0.007533</td>\n",
       "    </tr>\n",
       "    <tr>\n",
       "      <th>45</th>\n",
       "      <td>--qvQS4MigHPykD2GV0-zw</td>\n",
       "      <td>what a fantastic moving company it was easy to...</td>\n",
       "      <td>4.0</td>\n",
       "      <td>43</td>\n",
       "      <td>0.107590</td>\n",
       "      <td>0.005022</td>\n",
       "    </tr>\n",
       "    <tr>\n",
       "      <th>47</th>\n",
       "      <td>--ujyvoQlwVoBgMYtADiLA</td>\n",
       "      <td>ok i have been here twice both times were very...</td>\n",
       "      <td>3.5</td>\n",
       "      <td>71</td>\n",
       "      <td>0.376500</td>\n",
       "      <td>0.008537</td>\n",
       "    </tr>\n",
       "  </tbody>\n",
       "</table>\n",
       "</div>"
      ],
      "text/plain": [
       "               business_id                                               text  \\\n",
       "2   --7zmmkVg-IMGaXbuVd0SQ  great beer great place excellent service from ...   \n",
       "5   --9e1ONYQuAa-CB_Rrw7Tw  it was a real up and down eveningapps  bbq shr...   \n",
       "6   --DaPTJW3-tB1vP-PfdTEg  excellent and friendly service  nice clean res...   \n",
       "10  --FBCX-N37CMYDfs790Bnw  the bar is dark and smokey but they have a fan...   \n",
       "14  --I7YYLada0tSLkORTHb5Q  my husband and i stopped here at random and i ...   \n",
       "20  --SrzpvFLwP_YFwB_Cetow  its my first time writing review on yelp but i...   \n",
       "28  --cZ6Hhc9F7VkKXxHMVZSQ  our family of five got the latin combo full ro...   \n",
       "30  --cjBEbXMI2obtaRHNSFrA  swindled of a  cover per head the doorman saw ...   \n",
       "45  --qvQS4MigHPykD2GV0-zw  what a fantastic moving company it was easy to...   \n",
       "47  --ujyvoQlwVoBgMYtADiLA  ok i have been here twice both times were very...   \n",
       "\n",
       "    stars  review_count  normalized_review_count  norm_min_max_review_count  \n",
       "2     4.0            54                 0.213233                   0.006403  \n",
       "5     4.0          1546                14.542311                   0.193723  \n",
       "6     3.5            45                 0.126798                   0.005273  \n",
       "10    4.0           125                 0.895113                   0.015317  \n",
       "14    3.5            83                 0.491748                   0.010044  \n",
       "20    3.5            44                 0.117194                   0.005148  \n",
       "28    4.0           333                 2.892732                   0.041431  \n",
       "30    3.0            63                 0.299669                   0.007533  \n",
       "45    4.0            43                 0.107590                   0.005022  \n",
       "47    3.5            71                 0.376500                   0.008537  "
      ]
     },
     "execution_count": 30,
     "metadata": {},
     "output_type": "execute_result"
    }
   ],
   "source": [
    "df_combined_refined[:10]"
   ]
  },
  {
   "cell_type": "code",
   "execution_count": 31,
   "metadata": {
    "collapsed": true
   },
   "outputs": [],
   "source": [
    "from nltk.corpus import stopwords"
   ]
  },
  {
   "cell_type": "code",
   "execution_count": 32,
   "metadata": {
    "collapsed": true
   },
   "outputs": [],
   "source": [
    "from nltk.stem.porter import PorterStemmer"
   ]
  },
  {
   "cell_type": "code",
   "execution_count": 33,
   "metadata": {
    "collapsed": true
   },
   "outputs": [],
   "source": [
    "stop_words = stopwords.words('english')\n",
    "porter = PorterStemmer()"
   ]
  },
  {
   "cell_type": "code",
   "execution_count": 34,
   "metadata": {},
   "outputs": [
    {
     "name": "stderr",
     "output_type": "stream",
     "text": [
      "C:\\Users\\Mardavkumar\\Anaconda3\\lib\\site-packages\\ipykernel_launcher.py:2: SettingWithCopyWarning: \n",
      "A value is trying to be set on a copy of a slice from a DataFrame.\n",
      "Try using .loc[row_indexer,col_indexer] = value instead\n",
      "\n",
      "See the caveats in the documentation: http://pandas.pydata.org/pandas-docs/stable/indexing.html#indexing-view-versus-copy\n",
      "  \n"
     ]
    }
   ],
   "source": [
    "#remove stop words\n",
    "df_combined_refined['text']=df_combined_refined['text'].apply(lambda x: ' '.join([word for word in x.split() if word not in (stop_words)]))"
   ]
  },
  {
   "cell_type": "code",
   "execution_count": 35,
   "metadata": {},
   "outputs": [
    {
     "data": {
      "text/html": [
       "<div>\n",
       "<style>\n",
       "    .dataframe thead tr:only-child th {\n",
       "        text-align: right;\n",
       "    }\n",
       "\n",
       "    .dataframe thead th {\n",
       "        text-align: left;\n",
       "    }\n",
       "\n",
       "    .dataframe tbody tr th {\n",
       "        vertical-align: top;\n",
       "    }\n",
       "</style>\n",
       "<table border=\"1\" class=\"dataframe\">\n",
       "  <thead>\n",
       "    <tr style=\"text-align: right;\">\n",
       "      <th></th>\n",
       "      <th>business_id</th>\n",
       "      <th>text</th>\n",
       "      <th>stars</th>\n",
       "      <th>review_count</th>\n",
       "      <th>normalized_review_count</th>\n",
       "      <th>norm_min_max_review_count</th>\n",
       "    </tr>\n",
       "  </thead>\n",
       "  <tbody>\n",
       "    <tr>\n",
       "      <th>2</th>\n",
       "      <td>--7zmmkVg-IMGaXbuVd0SQ</td>\n",
       "      <td>great beer great place excellent service women...</td>\n",
       "      <td>4.0</td>\n",
       "      <td>54</td>\n",
       "      <td>0.213233</td>\n",
       "      <td>0.006403</td>\n",
       "    </tr>\n",
       "    <tr>\n",
       "      <th>5</th>\n",
       "      <td>--9e1ONYQuAa-CB_Rrw7Tw</td>\n",
       "      <td>real eveningapps bbq shrimp great theres dont ...</td>\n",
       "      <td>4.0</td>\n",
       "      <td>1546</td>\n",
       "      <td>14.542311</td>\n",
       "      <td>0.193723</td>\n",
       "    </tr>\n",
       "    <tr>\n",
       "      <th>6</th>\n",
       "      <td>--DaPTJW3-tB1vP-PfdTEg</td>\n",
       "      <td>excellent friendly service nice clean restaura...</td>\n",
       "      <td>3.5</td>\n",
       "      <td>45</td>\n",
       "      <td>0.126798</td>\n",
       "      <td>0.005273</td>\n",
       "    </tr>\n",
       "    <tr>\n",
       "      <th>10</th>\n",
       "      <td>--FBCX-N37CMYDfs790Bnw</td>\n",
       "      <td>bar dark smokey fantastic patio food good lot ...</td>\n",
       "      <td>4.0</td>\n",
       "      <td>125</td>\n",
       "      <td>0.895113</td>\n",
       "      <td>0.015317</td>\n",
       "    </tr>\n",
       "    <tr>\n",
       "      <th>14</th>\n",
       "      <td>--I7YYLada0tSLkORTHb5Q</td>\n",
       "      <td>husband stopped random must say food drinks wa...</td>\n",
       "      <td>3.5</td>\n",
       "      <td>83</td>\n",
       "      <td>0.491748</td>\n",
       "      <td>0.010044</td>\n",
       "    </tr>\n",
       "    <tr>\n",
       "      <th>20</th>\n",
       "      <td>--SrzpvFLwP_YFwB_Cetow</td>\n",
       "      <td>first time writing review yelp disgusted dish ...</td>\n",
       "      <td>3.5</td>\n",
       "      <td>44</td>\n",
       "      <td>0.117194</td>\n",
       "      <td>0.005148</td>\n",
       "    </tr>\n",
       "    <tr>\n",
       "      <th>28</th>\n",
       "      <td>--cZ6Hhc9F7VkKXxHMVZSQ</td>\n",
       "      <td>family five got latin combo full rotisserie ch...</td>\n",
       "      <td>4.0</td>\n",
       "      <td>333</td>\n",
       "      <td>2.892732</td>\n",
       "      <td>0.041431</td>\n",
       "    </tr>\n",
       "    <tr>\n",
       "      <th>30</th>\n",
       "      <td>--cjBEbXMI2obtaRHNSFrA</td>\n",
       "      <td>swindled cover per head doorman saw cash walle...</td>\n",
       "      <td>3.0</td>\n",
       "      <td>63</td>\n",
       "      <td>0.299669</td>\n",
       "      <td>0.007533</td>\n",
       "    </tr>\n",
       "    <tr>\n",
       "      <th>45</th>\n",
       "      <td>--qvQS4MigHPykD2GV0-zw</td>\n",
       "      <td>fantastic moving company easy schedule time wr...</td>\n",
       "      <td>4.0</td>\n",
       "      <td>43</td>\n",
       "      <td>0.107590</td>\n",
       "      <td>0.005022</td>\n",
       "    </tr>\n",
       "    <tr>\n",
       "      <th>47</th>\n",
       "      <td>--ujyvoQlwVoBgMYtADiLA</td>\n",
       "      <td>ok twice times poor first time server barely c...</td>\n",
       "      <td>3.5</td>\n",
       "      <td>71</td>\n",
       "      <td>0.376500</td>\n",
       "      <td>0.008537</td>\n",
       "    </tr>\n",
       "    <tr>\n",
       "      <th>52</th>\n",
       "      <td>-01XupAWZEXbdNbxNg5mEg</td>\n",
       "      <td>amazing place relax grab bitedrink kids skatin...</td>\n",
       "      <td>3.0</td>\n",
       "      <td>82</td>\n",
       "      <td>0.482144</td>\n",
       "      <td>0.009918</td>\n",
       "    </tr>\n",
       "    <tr>\n",
       "      <th>54</th>\n",
       "      <td>-050d_XIor1NpCuWkbIVaQ</td>\n",
       "      <td>one best breakfast places phoenix arrived late...</td>\n",
       "      <td>4.0</td>\n",
       "      <td>698</td>\n",
       "      <td>6.398170</td>\n",
       "      <td>0.087257</td>\n",
       "    </tr>\n",
       "    <tr>\n",
       "      <th>57</th>\n",
       "      <td>-092wE7j5HZOogMLAh40zA</td>\n",
       "      <td>tonight first time ordered wongs food tastes n...</td>\n",
       "      <td>3.5</td>\n",
       "      <td>89</td>\n",
       "      <td>0.549371</td>\n",
       "      <td>0.010797</td>\n",
       "    </tr>\n",
       "    <tr>\n",
       "      <th>58</th>\n",
       "      <td>-0BxAGlIk5DJAGVkpqBXxg</td>\n",
       "      <td>think awesome able find coffee bean las vegas ...</td>\n",
       "      <td>3.0</td>\n",
       "      <td>43</td>\n",
       "      <td>0.107590</td>\n",
       "      <td>0.005022</td>\n",
       "    </tr>\n",
       "    <tr>\n",
       "      <th>61</th>\n",
       "      <td>-0DET7VdEQOJVJ_v6klEug</td>\n",
       "      <td>service terrible waited hour half table mentio...</td>\n",
       "      <td>3.0</td>\n",
       "      <td>98</td>\n",
       "      <td>0.635807</td>\n",
       "      <td>0.011927</td>\n",
       "    </tr>\n",
       "    <tr>\n",
       "      <th>73</th>\n",
       "      <td>-0NrB58jqKqJfuUCDupcsw</td>\n",
       "      <td>craving kfc recently dropped work beat rush ge...</td>\n",
       "      <td>3.5</td>\n",
       "      <td>94</td>\n",
       "      <td>0.597391</td>\n",
       "      <td>0.011425</td>\n",
       "    </tr>\n",
       "    <tr>\n",
       "      <th>77</th>\n",
       "      <td>-0Sgh0QlUKVsWosCWJzGqQ</td>\n",
       "      <td>worst dominos world also lyndsi worst server l...</td>\n",
       "      <td>2.0</td>\n",
       "      <td>44</td>\n",
       "      <td>0.117194</td>\n",
       "      <td>0.005148</td>\n",
       "    </tr>\n",
       "    <tr>\n",
       "      <th>80</th>\n",
       "      <td>-0WegMt6Cy966qlDKhu6jA</td>\n",
       "      <td>quite good across ballpark easy access game di...</td>\n",
       "      <td>2.0</td>\n",
       "      <td>85</td>\n",
       "      <td>0.510955</td>\n",
       "      <td>0.010295</td>\n",
       "    </tr>\n",
       "    <tr>\n",
       "      <th>83</th>\n",
       "      <td>-0ZO00Vm2ADchytlEkoXmg</td>\n",
       "      <td>loved experience lori wonderful son months lit...</td>\n",
       "      <td>5.0</td>\n",
       "      <td>77</td>\n",
       "      <td>0.434124</td>\n",
       "      <td>0.009291</td>\n",
       "    </tr>\n",
       "    <tr>\n",
       "      <th>96</th>\n",
       "      <td>-0qht1roIqleKiQkBLDkbw</td>\n",
       "      <td>went cafebar pool charged onion rings went tel...</td>\n",
       "      <td>3.0</td>\n",
       "      <td>365</td>\n",
       "      <td>3.200059</td>\n",
       "      <td>0.045449</td>\n",
       "    </tr>\n",
       "  </tbody>\n",
       "</table>\n",
       "</div>"
      ],
      "text/plain": [
       "               business_id                                               text  \\\n",
       "2   --7zmmkVg-IMGaXbuVd0SQ  great beer great place excellent service women...   \n",
       "5   --9e1ONYQuAa-CB_Rrw7Tw  real eveningapps bbq shrimp great theres dont ...   \n",
       "6   --DaPTJW3-tB1vP-PfdTEg  excellent friendly service nice clean restaura...   \n",
       "10  --FBCX-N37CMYDfs790Bnw  bar dark smokey fantastic patio food good lot ...   \n",
       "14  --I7YYLada0tSLkORTHb5Q  husband stopped random must say food drinks wa...   \n",
       "20  --SrzpvFLwP_YFwB_Cetow  first time writing review yelp disgusted dish ...   \n",
       "28  --cZ6Hhc9F7VkKXxHMVZSQ  family five got latin combo full rotisserie ch...   \n",
       "30  --cjBEbXMI2obtaRHNSFrA  swindled cover per head doorman saw cash walle...   \n",
       "45  --qvQS4MigHPykD2GV0-zw  fantastic moving company easy schedule time wr...   \n",
       "47  --ujyvoQlwVoBgMYtADiLA  ok twice times poor first time server barely c...   \n",
       "52  -01XupAWZEXbdNbxNg5mEg  amazing place relax grab bitedrink kids skatin...   \n",
       "54  -050d_XIor1NpCuWkbIVaQ  one best breakfast places phoenix arrived late...   \n",
       "57  -092wE7j5HZOogMLAh40zA  tonight first time ordered wongs food tastes n...   \n",
       "58  -0BxAGlIk5DJAGVkpqBXxg  think awesome able find coffee bean las vegas ...   \n",
       "61  -0DET7VdEQOJVJ_v6klEug  service terrible waited hour half table mentio...   \n",
       "73  -0NrB58jqKqJfuUCDupcsw  craving kfc recently dropped work beat rush ge...   \n",
       "77  -0Sgh0QlUKVsWosCWJzGqQ  worst dominos world also lyndsi worst server l...   \n",
       "80  -0WegMt6Cy966qlDKhu6jA  quite good across ballpark easy access game di...   \n",
       "83  -0ZO00Vm2ADchytlEkoXmg  loved experience lori wonderful son months lit...   \n",
       "96  -0qht1roIqleKiQkBLDkbw  went cafebar pool charged onion rings went tel...   \n",
       "\n",
       "    stars  review_count  normalized_review_count  norm_min_max_review_count  \n",
       "2     4.0            54                 0.213233                   0.006403  \n",
       "5     4.0          1546                14.542311                   0.193723  \n",
       "6     3.5            45                 0.126798                   0.005273  \n",
       "10    4.0           125                 0.895113                   0.015317  \n",
       "14    3.5            83                 0.491748                   0.010044  \n",
       "20    3.5            44                 0.117194                   0.005148  \n",
       "28    4.0           333                 2.892732                   0.041431  \n",
       "30    3.0            63                 0.299669                   0.007533  \n",
       "45    4.0            43                 0.107590                   0.005022  \n",
       "47    3.5            71                 0.376500                   0.008537  \n",
       "52    3.0            82                 0.482144                   0.009918  \n",
       "54    4.0           698                 6.398170                   0.087257  \n",
       "57    3.5            89                 0.549371                   0.010797  \n",
       "58    3.0            43                 0.107590                   0.005022  \n",
       "61    3.0            98                 0.635807                   0.011927  \n",
       "73    3.5            94                 0.597391                   0.011425  \n",
       "77    2.0            44                 0.117194                   0.005148  \n",
       "80    2.0            85                 0.510955                   0.010295  \n",
       "83    5.0            77                 0.434124                   0.009291  \n",
       "96    3.0           365                 3.200059                   0.045449  "
      ]
     },
     "execution_count": 35,
     "metadata": {},
     "output_type": "execute_result"
    }
   ],
   "source": [
    "df_combined_refined[:20]"
   ]
  },
  {
   "cell_type": "markdown",
   "metadata": {},
   "source": [
    "# Making the corpus ready for Tf-IDF vectorizer"
   ]
  },
  {
   "cell_type": "code",
   "execution_count": 36,
   "metadata": {
    "collapsed": true
   },
   "outputs": [],
   "source": [
    "review_list_all_business=[]\n",
    "for review_text_per_business in df_combined_refined.text:\n",
    "    review_list_all_business.append(review_text_per_business)"
   ]
  },
  {
   "cell_type": "code",
   "execution_count": 37,
   "metadata": {
    "collapsed": true
   },
   "outputs": [],
   "source": [
    "normalized_all_review_count=[]\n",
    "for each_review_count in df_combined_refined.normalized_review_count:\n",
    "    normalized_all_review_count.append(np.array(each_review_count))"
   ]
  },
  {
   "cell_type": "code",
   "execution_count": 38,
   "metadata": {
    "collapsed": true
   },
   "outputs": [],
   "source": [
    "all_star_rating = []\n",
    "for each_rating in df_combined_refined.stars:\n",
    "    all_star_rating.append(each_rating)"
   ]
  },
  {
   "cell_type": "code",
   "execution_count": 39,
   "metadata": {
    "collapsed": true
   },
   "outputs": [],
   "source": [
    "normalized_min_max_review_count=[]\n",
    "for each_review_count in df_combined_refined.norm_min_max_review_count:\n",
    "    normalized_min_max_review_count.append(each_review_count)"
   ]
  },
  {
   "cell_type": "code",
   "execution_count": 40,
   "metadata": {},
   "outputs": [
    {
     "name": "stdout",
     "output_type": "stream",
     "text": [
      "30283\n",
      "30283\n",
      "30283\n",
      "30283\n"
     ]
    }
   ],
   "source": [
    "print(len(review_list_all_business))\n",
    "print(len(normalized_all_review_count))\n",
    "print(len(all_star_rating))\n",
    "print(len(normalized_min_max_review_count))"
   ]
  },
  {
   "cell_type": "markdown",
   "metadata": {},
   "source": [
    "# TF-IDF Vectorizer "
   ]
  },
  {
   "cell_type": "code",
   "execution_count": 41,
   "metadata": {},
   "outputs": [
    {
     "name": "stdout",
     "output_type": "stream",
     "text": [
      "<class 'scipy.sparse.csr.csr_matrix'>\n",
      "[[ 0.01238766  0.          0.         ...,  0.02298303  0.          0.        ]\n",
      " [ 0.01504604  0.01833247  0.00602515 ...,  0.01837454  0.00964583\n",
      "   0.01316916]\n",
      " [ 0.          0.00742313  0.02173539 ...,  0.01402186  0.          0.01004956]\n",
      " ..., \n",
      " [ 0.00625911  0.          0.         ...,  0.04645052  0.          0.        ]\n",
      " [ 0.          0.00873945  0.         ...,  0.01650829  0.          0.        ]\n",
      " [ 0.00876081  0.00430243  0.0062989  ...,  0.01219056  0.00764999\n",
      "   0.00582471]]\n",
      "['able', 'absolutely', 'accommodating', 'actual', 'actually', 'add', 'added', 'addition', 'affordable', 'afternoon', 'ago', 'ahead', 'air', 'airport', 'amazing', 'ambiance', 'american', 'apparently', 'appetizer', 'appetizers', 'apple', 'appointment', 'appreciate', 'area', 'arent', 'arrived', 'asian', 'ask', 'asked', 'asking', 'ate', 'atmosphere', 'attention', 'attentive', 'attitude', 'authentic', 'available', 'average', 'avocado', 'avoid', 'away', 'awesome', 'awful', 'baby', 'bacon', 'bad', 'bag', 'baked', 'bar', 'barely', 'bartender', 'bartenders', 'based', 'basic', 'basically', 'bathroom', 'bbq', 'bean', 'beans', 'beat', 'beautiful', 'bed', 'beef', 'beer', 'beers', 'believe', 'belly', 'best', 'better', 'big', 'birthday', 'bit', 'bite', 'black', 'bland', 'blue', 'book', 'bottle', 'bought', 'bowl', 'box', 'boyfriend', 'bread', 'breakfast', 'bring', 'brisket', 'broth', 'brought', 'brunch', 'bucks', 'buffet', 'building', 'bun', 'bunch', 'burger', 'burgers', 'burrito', 'business', 'busy', 'butter', 'buy', 'cafe', 'cake', 'calamari', 'called', 'came', 'car', 'card', 'care', 'case', 'cash', 'casino', 'casual', 'cause', 'center', 'certainly', 'chain', 'chairs', 'chance', 'change', 'changed', 'charge', 'charged', 'charlotte', 'cheap', 'check', 'checked', 'checking', 'cheese', 'chef', 'chicken', 'chili', 'chinese', 'chips', 'chocolate', 'choice', 'choices', 'choose', 'chose', 'city', 'classic', 'clean', 'clear', 'clearly', 'close', 'closed', 'club', 'cocktail', 'cocktails', 'coconut', 'coffee', 'cold', 'color', 'combo', 'come', 'comes', 'comfortable', 'coming', 'company', 'compared', 'complaint', 'complete', 'completely', 'considering', 'conversation', 'cook', 'cooked', 'cool', 'corn', 'corner', 'cost', 'counter', 'couple', 'course', 'covered', 'cozy', 'crab', 'craving', 'crazy', 'cream', 'creamy', 'credit', 'crispy', 'crowd', 'crowded', 'crust', 'cup', 'curry', 'customer', 'customers', 'cut', 'cute', 'dark', 'date', 'daughter', 'day', 'days', 'deal', 'decent', 'decided', 'decor', 'deep', 'definitely', 'delicious', 'delivered', 'delivery', 'desert', 'desk', 'despite', 'dessert', 'desserts', 'didnt', 'die', 'different', 'difficult', 'dining', 'dinner', 'dip', 'dirty', 'disappointed', 'disappointing', 'dish', 'dishes', 'doesnt', 'dog', 'dogs', 'dollars', 'dont', 'donuts', 'door', 'double', 'downtown', 'dr', 'dressing', 'drink', 'drinks', 'drive', 'dry', 'duck', 'early', 'easily', 'easy', 'eat', 'eaten', 'eating', 'efficient', 'egg', 'eggs', 'employee', 'employees', 'end', 'ended', 'enjoy', 'enjoyed', 'entire', 'entree', 'entrees', 'environment', 'especially', 'establishment', 'evening', 'event', 'exactly', 'excellent', 'excited', 'expect', 'expectations', 'expected', 'expecting', 'expensive', 'experience', 'explained', 'extra', 'extremely', 'eye', 'fabulous', 'face', 'fact', 'fair', 'fairly', 'family', 'fan', 'fancy', 'fantastic', 'far', 'fast', 'fat', 'favorite', 'favorites', 'fee', 'feel', 'feeling', 'felt', 'filet', 'filled', 'filling', 'finally', 'fine', 'finish', 'finished', 'fish', 'fix', 'fixed', 'flavor', 'flavorful', 'flavors', 'flavour', 'flight', 'floor', 'food', 'foods', 'forever', 'forget', 'forgot', 'forward', 'free', 'french', 'fresh', 'friday', 'fried', 'friend', 'friendly', 'friends', 'fries', 'frozen', 'fruit', 'fun', 'future', 'game', 'games', 'garlic', 'gave', 'gem', 'general', 'generous', 'gets', 'getting', 'girl', 'girls', 'given', 'giving', 'glad', 'glass', 'glasses', 'goes', 'going', 'gone', 'good', 'got', 'gotten', 'grab', 'gravy', 'greasy', 'great', 'green', 'greeted', 'grill', 'grilled', 'group', 'guess', 'guests', 'guy', 'guys', 'hair', 'half', 'hand', 'hands', 'hang', 'happened', 'happy', 'hard', 'hate', 'havent', 'head', 'healthy', 'hear', 'heard', 'heat', 'heavy', 'help', 'helped', 'helpful', 'hes', 'high', 'higher', 'highly', 'hit', 'hold', 'home', 'homemade', 'honest', 'honestly', 'honey', 'hope', 'horrible', 'hostess', 'hot', 'hotel', 'hour', 'hours', 'house', 'huge', 'hungry', 'husband', 'ice', 'iced', 'id', 'idea', 'ill', 'im', 'immediately', 'impressed', 'included', 'including', 'incredible', 'incredibly', 'indian', 'ingredients', 'inside', 'instead', 'interesting', 'interior', 'isnt', 'issue', 'issues', 'italian', 'item', 'items', 'ive', 'japanese', 'job', 'joint', 'juice', 'juicy', 'kept', 'kids', 'kind', 'kinda', 'kitchen', 'knew', 'know', 'knowledgeable', 'knows', 'korean', 'la', 'lack', 'lady', 'lamb', 'large', 'las', 'late', 'later', 'leave', 'leaving', 'left', 'lemon', 'let', 'lets', 'lettuce', 'level', 'life', 'light', 'like', 'liked', 'limited', 'line', 'list', 'literally', 'little', 'live', 'lived', 'lobster', 'local', 'located', 'location', 'locations', 'lol', 'long', 'longer', 'look', 'looked', 'looking', 'looks', 'lost', 'lot', 'lots', 'loud', 'love', 'loved', 'lovely', 'low', 'lunch', 'mac', 'main', 'make', 'makes', 'making', 'mall', 'man', 'management', 'manager', 'mango', 'market', 'massage', 'matter', 'maybe', 'meal', 'meals', 'mean', 'means', 'meat', 'meats', 'mediocre', 'medium', 'mention', 'mentioned', 'menu', 'met', 'mexican', 'middle', 'milk', 'min', 'mind', 'mins', 'minute', 'minutes', 'miss', 'missing', 'mix', 'mixed', 'modern', 'mom', 'money', 'month', 'months', 'morning', 'mouth', 'moved', 'movie', 'moving', 'multiple', 'mushroom', 'mushrooms', 'music', 'nachos', 'nail', 'nails', 'near', 'need', 'needed', 'needs', 'negative', 'neighborhood', 'new', 'nice', 'nicely', 'night', 'nights', 'noodle', 'noodles', 'normal', 'normally', 'notch', 'note', 'noticed', 'number', 'obviously', 'offer', 'offered', 'office', 'oh', 'oil', 'ok', 'okay', 'old', 'ones', 'onion', 'onions', 'online', 'open', 'opened', 'opinion', 'option', 'options', 'orange', 'order', 'ordered', 'ordering', 'orders', 'original', 'outdoor', 'outside', 'outstanding', 'overall', 'overpriced', 'owner', 'owners', 'packed', 'pad', 'paid', 'pancakes', 'park', 'parking', 'party', 'pass', 'past', 'pasta', 'patio', 'pay', 'paying', 'people', 'pepper', 'perfect', 'perfection', 'perfectly', 'person', 'personal', 'personally', 'pho', 'phoenix', 'phone', 'pick', 'picked', 'pictures', 'pie', 'piece', 'pieces', 'pizza', 'pizzas', 'place', 'placed', 'places', 'plain', 'plan', 'plate', 'plates', 'play', 'playing', 'pleasant', 'pleased', 'plenty', 'plus', 'pm', 'point', 'polite', 'pool', 'poor', 'pork', 'portion', 'portions', 'possible', 'pot', 'potato', 'potatoes', 'prefer', 'prepared', 'presentation', 'pretty', 'price', 'priced', 'prices', 'pricey', 'prime', 'probably', 'problem', 'process', 'professional', 'provided', 'pulled', 'purchase', 'quality', 'questions', 'quick', 'quickly', 'quiet', 'quite', 'ramen', 'rare', 'rating', 'read', 'reading', 'ready', 'real', 'really', 'reason', 'reasonable', 'reasonably', 'received', 'recently', 'recommend', 'recommended', 'red', 'regular', 'remember', 'reservation', 'reservations', 'rest', 'restaurant', 'restaurants', 'return', 'returning', 'review', 'reviews', 'rib', 'ribs', 'rice', 'rich', 'right', 'roasted', 'rock', 'roll', 'rolls', 'room', 'rooms', 'rude', 'run', 'running', 'rush', 'sad', 'said', 'salad', 'salads', 'salmon', 'salon', 'salsa', 'salt', 'salty', 'sandwich', 'sandwiches', 'sashimi', 'sat', 'satisfied', 'saturday', 'sauce', 'sauces', 'sausage', 'save', 'saw', 'say', 'saying', 'says', 'school', 'scottsdale', 'seafood', 'seasoned', 'seat', 'seated', 'seating', 'seats', 'second', 'section', 'seeing', 'seen', 'selection', 'sell', 'sent', 'seriously', 'serve', 'served', 'server', 'servers', 'service', 'services', 'serving', 'set', 'share', 'shared', 'shop', 'shopping', 'shops', 'short', 'shot', 'showed', 'shows', 'shrimp', 'sides', 'sign', 'similar', 'simple', 'simply', 'single', 'sit', 'sitting', 'size', 'slice', 'slices', 'slightly', 'slow', 'small', 'smaller', 'smell', 'smile', 'smoked', 'soft', 'solid', 'son', 'soon', 'sorry', 'sort', 'soup', 'sour', 'spa', 'space', 'speak', 'special', 'specials', 'spend', 'spent', 'spice', 'spicy', 'spinach', 'split', 'spot', 'spring', 'st', 'staff', 'stand', 'standard', 'star', 'stars', 'start', 'started', 'station', 'stay', 'stayed', 'staying', 'steak', 'stick', 'stop', 'stopped', 'store', 'street', 'strip', 'strong', 'stuff', 'stuffed', 'style', 'sugar', 'suggest', 'summer', 'sunday', 'super', 'supposed', 'sure', 'surprise', 'surprised', 'sushi', 'sweet', 'table', 'tables', 'taco', 'tacos', 'taken', 'takes', 'taking', 'talk', 'talking', 'taste', 'tasted', 'tastes', 'tasting', 'tasty', 'tea', 'team', 'tell', 'tender', 'terrible', 'texture', 'th', 'thai', 'thank', 'thanks', 'thats', 'theres', 'theyre', 'thing', 'things', 'think', 'thinking', 'thought', 'time', 'times', 'tiny', 'tip', 'toast', 'today', 'tofu', 'told', 'tomato', 'tomatoes', 'tonight', 'took', 'topped', 'toppings', 'toronto', 'total', 'totally', 'touch', 'town', 'traditional', 'treat', 'treated', 'tried', 'trip', 'true', 'truly', 'try', 'trying', 'tuna', 'turkey', 'turn', 'turned', 'tv', 'twice', 'type', 'typical', 'understand', 'unfortunately', 'unique', 'unless', 'use', 'used', 'using', 'usual', 'usually', 'valley', 'value', 'variety', 'vegan', 'vegas', 'vegetables', 'vegetarian', 'veggie', 'veggies', 'vibe', 'view', 'visit', 'visited', 'visiting', 'waffle', 'waffles', 'wait', 'waited', 'waiter', 'waiting', 'waitress', 'walk', 'walked', 'walking', 'wall', 'want', 'wanted', 'warm', 'wash', 'wasnt', 'waste', 'watch', 'watching', 'water', 'way', 'wedding', 'week', 'weekend', 'weeks', 'weird', 'welcoming', 'went', 'werent', 'weve', 'white', 'wife', 'window', 'wine', 'wings', 'wish', 'woman', 'wonderful', 'wont', 'word', 'work', 'worked', 'working', 'works', 'world', 'worse', 'worst', 'worth', 'wouldnt', 'wow', 'write', 'wrong', 'year', 'years', 'yelp', 'yes', 'youll', 'young', 'youre', 'yum', 'yummy']\n"
     ]
    }
   ],
   "source": [
    "import sklearn.feature_extraction.text as sk_text\n",
    "\n",
    "vectorizer = sk_text.TfidfVectorizer(\n",
    "                             stop_words='english',\n",
    "                             max_features = 1000,\n",
    "                             min_df=1)\n",
    "matrix = vectorizer.fit_transform(review_list_all_business)\n",
    "\n",
    "print(type(matrix))          # Compressed Sparse Row matrix\n",
    "print(matrix.toarray())        #  convert it to numpy array\n",
    "\n",
    "print(vectorizer.get_feature_names())"
   ]
  },
  {
   "cell_type": "code",
   "execution_count": 42,
   "metadata": {
    "collapsed": true
   },
   "outputs": [],
   "source": [
    "array_1 = matrix.toarray()"
   ]
  },
  {
   "cell_type": "code",
   "execution_count": 43,
   "metadata": {
    "collapsed": true
   },
   "outputs": [],
   "source": [
    "array_2 = np.array([normalized_all_review_count])"
   ]
  },
  {
   "cell_type": "code",
   "execution_count": 44,
   "metadata": {},
   "outputs": [
    {
     "data": {
      "text/plain": [
       "array([[  0.2132333 ,  14.54231123,   0.12679784, ...,   0.34768845,\n",
       "          0.1171939 ,   0.29966876]])"
      ]
     },
     "execution_count": 44,
     "metadata": {},
     "output_type": "execute_result"
    }
   ],
   "source": [
    "array_2"
   ]
  },
  {
   "cell_type": "code",
   "execution_count": 45,
   "metadata": {
    "collapsed": true
   },
   "outputs": [],
   "source": [
    "array_3 = np.concatenate((array_1, array_2.T),axis=1)"
   ]
  },
  {
   "cell_type": "markdown",
   "metadata": {},
   "source": [
    "# Making X ready for the Models"
   ]
  },
  {
   "cell_type": "code",
   "execution_count": 46,
   "metadata": {
    "collapsed": true
   },
   "outputs": [],
   "source": [
    "X = array_3"
   ]
  },
  {
   "cell_type": "code",
   "execution_count": 47,
   "metadata": {},
   "outputs": [
    {
     "data": {
      "text/plain": [
       "(30283, 1001)"
      ]
     },
     "execution_count": 47,
     "metadata": {},
     "output_type": "execute_result"
    }
   ],
   "source": [
    "X.shape"
   ]
  },
  {
   "cell_type": "code",
   "execution_count": 48,
   "metadata": {
    "collapsed": true
   },
   "outputs": [],
   "source": [
    "array_4 = np.array([normalized_min_max_review_count])"
   ]
  },
  {
   "cell_type": "markdown",
   "metadata": {},
   "source": [
    "# Making X for MultinomialNB"
   ]
  },
  {
   "cell_type": "code",
   "execution_count": 49,
   "metadata": {
    "collapsed": true
   },
   "outputs": [],
   "source": [
    "X_mnb = np.concatenate((array_1, array_4.T),axis=1)"
   ]
  },
  {
   "cell_type": "code",
   "execution_count": 50,
   "metadata": {},
   "outputs": [
    {
     "data": {
      "text/plain": [
       "(30283, 1001)"
      ]
     },
     "execution_count": 50,
     "metadata": {},
     "output_type": "execute_result"
    }
   ],
   "source": [
    "X_mnb.shape"
   ]
  },
  {
   "cell_type": "markdown",
   "metadata": {},
   "source": [
    "# Making y ready for Linear Regression Model"
   ]
  },
  {
   "cell_type": "code",
   "execution_count": 51,
   "metadata": {
    "collapsed": true
   },
   "outputs": [],
   "source": [
    "y = np.array(all_star_rating)"
   ]
  },
  {
   "cell_type": "code",
   "execution_count": 52,
   "metadata": {},
   "outputs": [
    {
     "data": {
      "text/plain": [
       "array([ 4. ,  4. ,  3.5, ...,  3.5,  4. ,  3. ])"
      ]
     },
     "execution_count": 52,
     "metadata": {},
     "output_type": "execute_result"
    }
   ],
   "source": [
    "y"
   ]
  },
  {
   "cell_type": "code",
   "execution_count": 53,
   "metadata": {},
   "outputs": [
    {
     "data": {
      "text/plain": [
       "(30283, 1001)"
      ]
     },
     "execution_count": 53,
     "metadata": {},
     "output_type": "execute_result"
    }
   ],
   "source": [
    "X.shape\n"
   ]
  },
  {
   "cell_type": "code",
   "execution_count": 54,
   "metadata": {},
   "outputs": [
    {
     "data": {
      "text/plain": [
       "(30283,)"
      ]
     },
     "execution_count": 54,
     "metadata": {},
     "output_type": "execute_result"
    }
   ],
   "source": [
    "y.shape"
   ]
  },
  {
   "cell_type": "code",
   "execution_count": 55,
   "metadata": {},
   "outputs": [
    {
     "data": {
      "text/plain": [
       "array([ 4. ,  4. ,  3.5,  4. ,  3.5,  3.5,  4. ,  3. ,  4. ,  3.5,  3. ,\n",
       "        4. ,  3.5,  3. ,  3. ,  3.5,  2. ,  2. ,  5. ,  3. ,  3.5,  3.5,\n",
       "        4. ,  3.5,  4. ,  4.5,  3. ,  4.5,  3.5,  4. ,  1.5,  4.5,  3.5,\n",
       "        3.5,  2.5,  4. ,  4. ,  4. ,  4. ,  4. ,  2.5,  3. ,  3.5,  4. ,\n",
       "        4. ,  3. ,  3. ,  2.5,  4.5,  3.5,  4. ,  3. ,  4.5,  4. ,  3.5,\n",
       "        4.5,  3.5,  3. ,  4.5,  3.5,  4. ,  4.5,  3.5,  3. ,  4. ,  3.5,\n",
       "        4.5,  4. ,  4.5,  3.5,  3.5,  4.5,  3. ,  2.5,  4. ,  3.5,  3.5,\n",
       "        3.5,  5. ,  3. ,  3. ,  3.5,  4. ,  3. ,  4. ,  4. ,  5. ,  4.5,\n",
       "        4.5,  3.5,  3.5,  4. ,  4.5,  4. ,  4. ,  4. ,  3.5,  3. ,  3. ,\n",
       "        4. ])"
      ]
     },
     "execution_count": 55,
     "metadata": {},
     "output_type": "execute_result"
    }
   ],
   "source": [
    "y[:100]"
   ]
  },
  {
   "cell_type": "markdown",
   "metadata": {},
   "source": [
    "# Label Encoding y for classification Model"
   ]
  },
  {
   "cell_type": "code",
   "execution_count": 56,
   "metadata": {},
   "outputs": [
    {
     "data": {
      "text/plain": [
       "array([ 1. ,  1.5,  2. ,  2.5,  3. ,  3.5,  4. ,  4.5,  5. ])"
      ]
     },
     "execution_count": 56,
     "metadata": {},
     "output_type": "execute_result"
    }
   ],
   "source": [
    "from sklearn import preprocessing\n",
    "lb = preprocessing.LabelEncoder()\n",
    "normalized_y=lb.fit_transform(y)\n",
    "lb.classes_"
   ]
  },
  {
   "cell_type": "code",
   "execution_count": 57,
   "metadata": {},
   "outputs": [
    {
     "data": {
      "text/plain": [
       "array([6, 6, 5, 6, 5, 5, 6, 4, 6, 5], dtype=int64)"
      ]
     },
     "execution_count": 57,
     "metadata": {},
     "output_type": "execute_result"
    }
   ],
   "source": [
    "normalized_y[:10]"
   ]
  },
  {
   "cell_type": "code",
   "execution_count": 58,
   "metadata": {},
   "outputs": [
    {
     "name": "stdout",
     "output_type": "stream",
     "text": [
      "multiclass\n"
     ]
    }
   ],
   "source": [
    "from sklearn import utils\n",
    "print(utils.multiclass.type_of_target(normalized_y))"
   ]
  },
  {
   "cell_type": "markdown",
   "metadata": {},
   "source": [
    "# Splitting data into Train and Test data"
   ]
  },
  {
   "cell_type": "code",
   "execution_count": 59,
   "metadata": {
    "collapsed": true
   },
   "outputs": [],
   "source": [
    "from sklearn.model_selection import train_test_split\n",
    "X_train,X_test,y_train,y_test = train_test_split(X,normalized_y,test_size=0.25,random_state=1)"
   ]
  },
  {
   "cell_type": "code",
   "execution_count": 60,
   "metadata": {
    "collapsed": true
   },
   "outputs": [],
   "source": [
    "X_train_mnb,X_test_mnb,y_train_mnb,y_test_mnb = train_test_split(X_mnb,normalized_y,test_size=0.25,random_state=1)"
   ]
  },
  {
   "cell_type": "code",
   "execution_count": 61,
   "metadata": {
    "collapsed": true
   },
   "outputs": [],
   "source": [
    "X_train_lir,X_test_lir,y_train_lir,y_test_lir = train_test_split(X,y,test_size=0.25,random_state=1)"
   ]
  },
  {
   "cell_type": "markdown",
   "metadata": {
    "collapsed": true
   },
   "source": [
    "# Training  Different Models"
   ]
  },
  {
   "cell_type": "code",
   "execution_count": 62,
   "metadata": {},
   "outputs": [
    {
     "data": {
      "text/plain": [
       "MultinomialNB(alpha=1.0, class_prior=None, fit_prior=True)"
      ]
     },
     "execution_count": 62,
     "metadata": {},
     "output_type": "execute_result"
    }
   ],
   "source": [
    "from sklearn.naive_bayes import MultinomialNB\n",
    "\n",
    "clf_mnb = MultinomialNB()\n",
    "clf_mnb.fit(X_train_mnb, y_train_mnb)"
   ]
  },
  {
   "cell_type": "code",
   "execution_count": 63,
   "metadata": {},
   "outputs": [
    {
     "data": {
      "text/plain": [
       "SVC(C=10.0, cache_size=200, class_weight=None, coef0=0.0,\n",
       "  decision_function_shape='ovr', degree=3, gamma='auto', kernel='linear',\n",
       "  max_iter=-1, probability=False, random_state=None, shrinking=True,\n",
       "  tol=0.001, verbose=False)"
      ]
     },
     "execution_count": 63,
     "metadata": {},
     "output_type": "execute_result"
    }
   ],
   "source": [
    "from sklearn.svm import SVC\n",
    "\n",
    "clf_svc = SVC(C=10.0,kernel='linear')\n",
    "clf_svc.fit(X_train,y_train)"
   ]
  },
  {
   "cell_type": "code",
   "execution_count": 64,
   "metadata": {},
   "outputs": [
    {
     "data": {
      "text/plain": [
       "KNeighborsClassifier(algorithm='auto', leaf_size=30, metric='minkowski',\n",
       "           metric_params=None, n_jobs=1, n_neighbors=10, p=2,\n",
       "           weights='uniform')"
      ]
     },
     "execution_count": 64,
     "metadata": {},
     "output_type": "execute_result"
    }
   ],
   "source": [
    "from sklearn.neighbors import KNeighborsClassifier\n",
    "\n",
    "clf_knn = KNeighborsClassifier(n_neighbors=10)\n",
    "clf_knn.fit(X_train,y_train)"
   ]
  },
  {
   "cell_type": "code",
   "execution_count": 65,
   "metadata": {},
   "outputs": [
    {
     "data": {
      "text/plain": [
       "LogisticRegression(C=1.0, class_weight=None, dual=False, fit_intercept=True,\n",
       "          intercept_scaling=1, max_iter=100, multi_class='ovr', n_jobs=1,\n",
       "          penalty='l2', random_state=None, solver='liblinear', tol=0.0001,\n",
       "          verbose=0, warm_start=False)"
      ]
     },
     "execution_count": 65,
     "metadata": {},
     "output_type": "execute_result"
    }
   ],
   "source": [
    "from sklearn.linear_model import LogisticRegression\n",
    "\n",
    "clf_lr = LogisticRegression()\n",
    "clf_lr.fit(X_train, y_train)"
   ]
  },
  {
   "cell_type": "code",
   "execution_count": 66,
   "metadata": {},
   "outputs": [
    {
     "data": {
      "text/plain": [
       "LinearRegression(copy_X=True, fit_intercept=True, n_jobs=1, normalize=False)"
      ]
     },
     "execution_count": 66,
     "metadata": {},
     "output_type": "execute_result"
    }
   ],
   "source": [
    "from sklearn.linear_model import LinearRegression\n",
    "\n",
    "clf_lir = LinearRegression()\n",
    "clf_lir.fit(X_train_lir, y_train_lir)"
   ]
  },
  {
   "cell_type": "markdown",
   "metadata": {
    "collapsed": true
   },
   "source": [
    "# Testing and Evaluation"
   ]
  },
  {
   "cell_type": "code",
   "execution_count": 67,
   "metadata": {
    "collapsed": true
   },
   "outputs": [],
   "source": [
    "from sklearn import metrics"
   ]
  },
  {
   "cell_type": "code",
   "execution_count": 68,
   "metadata": {},
   "outputs": [
    {
     "name": "stdout",
     "output_type": "stream",
     "text": [
      "test [6 5 8 5 6 7 5 6 6 4]\n",
      "pred [6 6 8 5 6 6 6 5 5 4]\n",
      "[[   2   11    1    0    0    0    0    0    0]\n",
      " [   5   36   45    1    0    0    0    0    0]\n",
      " [   0   15   90   72    3    0    0    0    0]\n",
      " [   0    0   33  286  109    2    0    0    0]\n",
      " [   0    0    3   86  718  261    3    0    0]\n",
      " [   0    0    0    3  175 1361  327    5    0]\n",
      " [   0    0    0    0    8  283 1732  195    0]\n",
      " [   0    0    0    0    0    5  252  947   85]\n",
      " [   0    0    0    0    0    0    0  122  289]]\n",
      "Precision Score::  0.72035362651\n",
      "Recall Score::  0.721304979527\n",
      "F1 Score::  0.720308911265\n"
     ]
    }
   ],
   "source": [
    "y_pred = clf_svc.predict(X_test)\n",
    "\n",
    "print(\"test\", y_test[:10])\n",
    "print(\"pred\", y_pred[:10])\n",
    "\n",
    "print(metrics.confusion_matrix(y_test,y_pred))\n",
    "print(\"Precision Score:: \",metrics.precision_score(y_test,y_pred,average='weighted'))   \n",
    "print(\"Recall Score:: \",metrics.recall_score(y_test,y_pred,average='weighted'))      \n",
    "print(\"F1 Score:: \",metrics.f1_score(y_test,y_pred,average='weighted')) "
   ]
  },
  {
   "cell_type": "markdown",
   "metadata": {},
   "source": [
    "# very Low F1 score  for SVM without parameter Tuning"
   ]
  },
  {
   "cell_type": "code",
   "execution_count": 54,
   "metadata": {},
   "outputs": [
    {
     "name": "stdout",
     "output_type": "stream",
     "text": [
      "test [4 7 6 6 5 7 6 6 3 6]\n",
      "pred [6 6 6 6 6 6 6 6 6 6]\n",
      "[[   0    0    0    0    0    0    4    0    0]\n",
      " [   0    0    0    0    0    0   15    0    0]\n",
      " [   0    0    0    0    0    0   45    0    0]\n",
      " [   0    0    0    0    0    0  117    0    0]\n",
      " [   0    0    0    0    0    0  339    0    0]\n",
      " [   0    0    0    0    0    0  720    0    0]\n",
      " [   0    0    0    0    0    0 1027    0    0]\n",
      " [   0    0    0    0    0    0  535    0    0]\n",
      " [   0    0    0    0    0    0  100    0    0]]\n",
      "Precision Score::  0.125240868604\n",
      "Recall Score::  0.353893866299\n",
      "F1 Score::  0.185008399435\n"
     ]
    },
    {
     "name": "stderr",
     "output_type": "stream",
     "text": [
      "C:\\Users\\Mardavkumar\\Anaconda3\\lib\\site-packages\\sklearn\\metrics\\classification.py:1135: UndefinedMetricWarning: Precision is ill-defined and being set to 0.0 in labels with no predicted samples.\n",
      "  'precision', 'predicted', average, warn_for)\n",
      "C:\\Users\\Mardavkumar\\Anaconda3\\lib\\site-packages\\sklearn\\metrics\\classification.py:1135: UndefinedMetricWarning: F-score is ill-defined and being set to 0.0 in labels with no predicted samples.\n",
      "  'precision', 'predicted', average, warn_for)\n"
     ]
    }
   ],
   "source": [
    "y_pred = clf_svc.predict(X_test)\n",
    "\n",
    "print(\"test\", y_test[:10])\n",
    "print(\"pred\", y_pred[:10])\n",
    "\n",
    "print(metrics.confusion_matrix(y_test,y_pred))\n",
    "print(\"Precision Score:: \",metrics.precision_score(y_test,y_pred,average='weighted'))   \n",
    "print(\"Recall Score:: \",metrics.recall_score(y_test,y_pred,average='weighted'))      \n",
    "print(\"F1 Score:: \",metrics.f1_score(y_test,y_pred,average='weighted')) "
   ]
  },
  {
   "cell_type": "code",
   "execution_count": 73,
   "metadata": {},
   "outputs": [
    {
     "name": "stdout",
     "output_type": "stream",
     "text": [
      "test [6 5 8 5 6 7 5 6 6 4]\n",
      "pred [5 6 8 5 8 6 7 4 6 5]\n",
      "[[   0    9    2    0    0    0    0    0    3]\n",
      " [   0   28   27   15    7    3    1    2    4]\n",
      " [   0   11   36   23   31   41    1    6   31]\n",
      " [   0    2   42   41   76  181   17   17   54]\n",
      " [   0    1   25   48   70  629  127   75   96]\n",
      " [   0    0    9   20   58  795  692  164  133]\n",
      " [   0    0    1    4   21  326 1363  291  212]\n",
      " [   0    0    0    0    5   27  613  273  371]\n",
      " [   0    0    0    0    0    1   30   57  323]]\n",
      "Precision Score::  0.370004542341\n",
      "Recall Score::  0.38687095496\n",
      "F1 Score::  0.356148256486\n"
     ]
    },
    {
     "name": "stderr",
     "output_type": "stream",
     "text": [
      "C:\\Users\\Mardavkumar\\Anaconda3\\lib\\site-packages\\sklearn\\metrics\\classification.py:1135: UndefinedMetricWarning: Precision is ill-defined and being set to 0.0 in labels with no predicted samples.\n",
      "  'precision', 'predicted', average, warn_for)\n",
      "C:\\Users\\Mardavkumar\\Anaconda3\\lib\\site-packages\\sklearn\\metrics\\classification.py:1135: UndefinedMetricWarning: F-score is ill-defined and being set to 0.0 in labels with no predicted samples.\n",
      "  'precision', 'predicted', average, warn_for)\n"
     ]
    }
   ],
   "source": [
    "y_pred = clf_mnb.predict(X_test_mnb)\n",
    "\n",
    "print(\"test\", y_test[:10])\n",
    "print(\"pred\", y_pred[:10])\n",
    "\n",
    "print(metrics.confusion_matrix(y_test_mnb,y_pred))\n",
    "print(\"Precision Score:: \",metrics.precision_score(y_test_mnb,y_pred,average='weighted'))   \n",
    "print(\"Recall Score:: \",metrics.recall_score(y_test_mnb,y_pred,average='weighted'))      \n",
    "print(\"F1 Score:: \",metrics.f1_score(y_test_mnb,y_pred,average='weighted'))"
   ]
  },
  {
   "cell_type": "code",
   "execution_count": 70,
   "metadata": {},
   "outputs": [
    {
     "name": "stdout",
     "output_type": "stream",
     "text": [
      "test [6 5 8 5 6 7 5 6 6 4]\n",
      "pred [6 6 8 4 4 6 6 4 6 4]\n",
      "[[   2    9    1    0    1    1    0    0    0]\n",
      " [   1   33   28   16    6    3    0    0    0]\n",
      " [   1   16   49   53   33   19    6    2    1]\n",
      " [   0    4   35  118  144   95   28    6    0]\n",
      " [   0    5   25  115  324  419  156   26    1]\n",
      " [   0    3    5   56  315  886  532   68    6]\n",
      " [   0    0    4   15  115  725 1082  257   20]\n",
      " [   0    0    1    3   19  182  569  433   82]\n",
      " [   0    0    1    0    2   10   43  203  152]]\n",
      "Precision Score::  0.41013434477\n",
      "Recall Score::  0.406683397173\n",
      "F1 Score::  0.40398390215\n"
     ]
    }
   ],
   "source": [
    "y_pred = clf_knn.predict(X_test)\n",
    "\n",
    "print(\"test\", y_test[:10])\n",
    "print(\"pred\", y_pred[:10])\n",
    "\n",
    "print(metrics.confusion_matrix(y_test,y_pred))\n",
    "print(\"Precision Score:: \",metrics.precision_score(y_test,y_pred,average='weighted'))   \n",
    "print(\"Recall Score:: \",metrics.recall_score(y_test,y_pred,average='weighted'))      \n",
    "print(\"F1 Score:: \",metrics.f1_score(y_test,y_pred,average='weighted'))"
   ]
  },
  {
   "cell_type": "code",
   "execution_count": 71,
   "metadata": {},
   "outputs": [
    {
     "name": "stdout",
     "output_type": "stream",
     "text": [
      "test [6 5 8 5 6 7 5 6 6 4]\n",
      "pred [6 6 8 5 7 6 6 5 6 4]\n",
      "[[   0   10    3    0    1    0    0    0    0]\n",
      " [   0   19   29   31    8    0    0    0    0]\n",
      " [   0   14   20   74   60   12    0    0    0]\n",
      " [   0    3    7   70  256   86    8    0    0]\n",
      " [   0    1    3   37  320  647   56    7    0]\n",
      " [   0    2    1    3   82 1145  598   40    0]\n",
      " [   0    0    0    0    7  274 1685  246    6]\n",
      " [   0    0    0    0    0    8  493  704   84]\n",
      " [   0    0    0    0    0    0    2  195  214]]\n",
      "Precision Score::  0.534905341736\n",
      "Recall Score::  0.551710474178\n",
      "F1 Score::  0.533816822735\n"
     ]
    },
    {
     "name": "stderr",
     "output_type": "stream",
     "text": [
      "C:\\Users\\Mardavkumar\\Anaconda3\\lib\\site-packages\\sklearn\\metrics\\classification.py:1135: UndefinedMetricWarning: Precision is ill-defined and being set to 0.0 in labels with no predicted samples.\n",
      "  'precision', 'predicted', average, warn_for)\n",
      "C:\\Users\\Mardavkumar\\Anaconda3\\lib\\site-packages\\sklearn\\metrics\\classification.py:1135: UndefinedMetricWarning: F-score is ill-defined and being set to 0.0 in labels with no predicted samples.\n",
      "  'precision', 'predicted', average, warn_for)\n"
     ]
    }
   ],
   "source": [
    "y_pred = clf_lr.predict(X_test)\n",
    "\n",
    "print(\"test\", y_test[:10])\n",
    "print(\"pred\", y_pred[:10])\n",
    "\n",
    "print(metrics.confusion_matrix(y_test,y_pred))\n",
    "print(\"Precision Score:: \",metrics.precision_score(y_test,y_pred,average='weighted'))   \n",
    "print(\"Recall Score:: \",metrics.recall_score(y_test,y_pred,average='weighted'))      \n",
    "print(\"F1 Score:: \",metrics.f1_score(y_test,y_pred,average='weighted'))\n"
   ]
  },
  {
   "cell_type": "code",
   "execution_count": 72,
   "metadata": {},
   "outputs": [
    {
     "name": "stdout",
     "output_type": "stream",
     "text": [
      "test [ 4.   3.5  5.   3.5  4.   4.5  3.5  4.   4.   3.   3.5  3.   2.5  5.   4.5\n",
      "  3.5  3.5  4.   3.5  3.5]\n",
      "pred [ 3.9220558   3.64063108  5.21931989  3.44153266  3.78197047  4.26234294\n",
      "  3.82135511  3.69632909  3.75181228  2.92571961  3.1518672   3.18871931\n",
      "  2.59257826  4.80507159  4.46064339  3.10583086  3.68843538  3.79872847\n",
      "  3.49112125  3.70361147]\n",
      "R2 score 0.859165520359\n",
      "RMSE::  0.272126023527\n",
      "MSE::  0.0740525726804\n"
     ]
    }
   ],
   "source": [
    "y_pred_lir = clf_lir.predict(X_test_lir)\n",
    "\n",
    "print(\"test\",y_test_lir[:20])\n",
    "print(\"pred\", y_pred_lir[:20])\n",
    "\n",
    "print(\"R2 score\",metrics.r2_score(y_test_lir,y_pred_lir))\n",
    "print(\"RMSE:: \",np.sqrt(metrics.mean_squared_error(y_test_lir, y_pred_lir)))\n",
    "print(\"MSE:: \", metrics.mean_squared_error(y_test_lir, y_pred_lir))"
   ]
  }
 ],
 "metadata": {
  "kernelspec": {
   "display_name": "Python 3",
   "language": "python",
   "name": "python3"
  },
  "language_info": {
   "codemirror_mode": {
    "name": "ipython",
    "version": 3
   },
   "file_extension": ".py",
   "mimetype": "text/x-python",
   "name": "python",
   "nbconvert_exporter": "python",
   "pygments_lexer": "ipython3",
   "version": "3.6.3"
  }
 },
 "nbformat": 4,
 "nbformat_minor": 1
}
